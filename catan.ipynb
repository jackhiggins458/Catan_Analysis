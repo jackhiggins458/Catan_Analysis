{
 "cells": [
  {
   "cell_type": "markdown",
   "id": "6f58766d-9135-472c-a851-0b9fe6b8dd50",
   "metadata": {},
   "source": [
    "# Catan Analysis\n",
    "By Jack Higgins"
   ]
  },
  {
   "cell_type": "markdown",
   "id": "ec5776ce-5365-40a1-b433-dbf9e6d8db24",
   "metadata": {
    "jupyter": {
     "source_hidden": true
    },
    "tags": []
   },
   "source": [
    "## To Do"
   ]
  },
  {
   "cell_type": "markdown",
   "id": "9a91358e-40fd-4024-9862-036e54ae9122",
   "metadata": {
    "jupyter": {
     "source_hidden": true
    },
    "tags": []
   },
   "source": [
    "- [x] Move to notebooks\n",
    "- [x] Create git repo\n",
    "- [x] Install git notebook extensions https://coderefinery.github.io/jupyter/version-control/\n",
    "- [x] Play around with SVG library to see if it would be better https://pypi.org/project/drawSvg/\n",
    "- [x] Convert point class to a collections.namedtuple https://docs.python.org/3.8/library/collections.html#collections.namedtuple\n",
    "- [x] Tidy code\n",
    "- [x] Refactor code so that it uses a hexagonal co-ordinate system https://www.redblobgames.com/grids/hexagons/#hex-to-pixel\n",
    "- [x] Make display_board modular\n",
    "- [x] Add dots to tokens\n",
    "- [x] Fix issues when changing hex sizes\n",
    "- [x] Use ordered elements append to create layers \n",
    "- [x] Figure out vertices\n",
    "- [x] Add empty outer layer\n",
    "- [x] Draw ports (4 x 3:1 + 5 x 2:1)\n",
    "- [x] Add ports to board logic\n",
    "- [x] Tidy up new code\n",
    "- [x] Comment new functions\n",
    "- [x] Add in harbors to code\n",
    "- [x] Refactor graphical code\n",
    "- [x] Check graphical code works\n",
    "- [x] Convert np.array([q,r]) to hex(q,r)\n",
    "- [x] Change name of hex_coords_mapping\n",
    "- [x] Convert hexes, points and vertices to lists instead of arrays & change relevant code\n",
    "- [ ] Convert vertices to tuples?\n",
    "- [ ] Create function to draw vertices\n",
    "- [ ] Add arguments to graphical rep functions\n",
    "- [ ] Fix spelling lol\n",
    "- [ ] Document code (docstrings + type annotations)\n",
    "- [ ] Figure out how to make colour blind friendly\n",
    "- [ ] Calculate number of possible boards"
   ]
  },
  {
   "cell_type": "markdown",
   "id": "fa2be123-edba-4fe8-8e72-00eaee8d8345",
   "metadata": {},
   "source": [
    "## Libraries"
   ]
  },
  {
   "cell_type": "code",
   "execution_count": 2,
   "id": "4a039424-7524-4c11-86c7-7e91851b5d9c",
   "metadata": {},
   "outputs": [],
   "source": [
    "import numpy as np\n",
    "from __future__ import annotations\n",
    "from math import sin, cos, pi, sqrt\n",
    "from dataclasses import dataclass, field\n",
    "from random import randint, shuffle, seed\n",
    "import drawSvg as draw\n",
    "\n",
    "seed(2022)"
   ]
  },
  {
   "cell_type": "markdown",
   "id": "4d85af35-7a32-4ed8-9364-89b0286fc08d",
   "metadata": {
    "tags": []
   },
   "source": [
    "## Creating the board"
   ]
  },
  {
   "cell_type": "markdown",
   "id": "7dcf8f1d-5da3-45cb-bcfe-817152b20f93",
   "metadata": {
    "tags": []
   },
   "source": [
    "### Symbolic representation"
   ]
  },
  {
   "cell_type": "markdown",
   "id": "1cdd2dc1-b931-4967-9a46-485373698c74",
   "metadata": {},
   "source": [
    "Hexes, vertices and points are encoded using NumPy arrays. The following functions are used to conveniently create these objects."
   ]
  },
  {
   "cell_type": "code",
   "execution_count": 3,
   "id": "c23c39bd-0f37-4b85-be06-e5b24ca53ffd",
   "metadata": {},
   "outputs": [],
   "source": [
    "def h(q,r):\n",
    "    # Convenience wrapper for creating hexes\n",
    "    return (q,r)\n",
    "\n",
    "def v(q,r,d):\n",
    "    # Convenience wrapper for creating vertices\n",
    "    return (q,r,d)\n",
    "\n",
    "def p(x,y):\n",
    "    # Convenience wrapper for creating points\n",
    "    return (x,y)"
   ]
  },
  {
   "cell_type": "markdown",
   "id": "76386f7a-05ce-4d93-acf6-6f8ea643bb7d",
   "metadata": {},
   "source": [
    "The following functions are used to create the underlying hexagonal grid. The grid is stored as an array of hexes."
   ]
  },
  {
   "cell_type": "code",
   "execution_count": 4,
   "id": "dca5c396-3d1d-4a73-b761-db764221c3fe",
   "metadata": {},
   "outputs": [],
   "source": [
    "def calc_number_hexes(radius: int) -> int:\n",
    "    \"\"\"\n",
    "    Calculates the number of hexes in a hexagonal grid of given radius.\n",
    "    \"\"\"\n",
    "    return 1 + 3 * radius * (radius + 1)\n",
    "\n",
    "\n",
    "def create_hex_grid(radius):\n",
    "    \"\"\"\n",
    "    Returns a list of hex co-ordinates in a hexagonal grid of the given radius\n",
    "    \"\"\"\n",
    "    num_hexes = calc_number_hexes(radius)\n",
    "    i = 0\n",
    "    hex_grid = {}\n",
    "    for q in range(-radius, radius + 1):\n",
    "        r1 = max(-radius, -q - radius)\n",
    "        r2 = min(radius, -q + radius)\n",
    "        for r in range(r1, r2 + 1):\n",
    "            hex_grid[(q, r)] = i\n",
    "            i += 1\n",
    "            \n",
    "    return hex_grid\n",
    "\n",
    "\n",
    "def axial_to_cube(hex_):\n",
    "    # Convert from axial co-ordinates, (q, r), to cubic co-ordinates, (q, r, s),\n",
    "    # where s = -q - r. \n",
    "    return (*hex_, -sum(hex_))"
   ]
  },
  {
   "cell_type": "markdown",
   "id": "f768de69-45c4-43d6-b8a8-72bdc32852a8",
   "metadata": {},
   "source": [
    "The functions below are used to assign attributes to the map."
   ]
  },
  {
   "cell_type": "code",
   "execution_count": 5,
   "id": "a8b4fcd5-3777-4d27-bb8c-1030ce9be7ce",
   "metadata": {},
   "outputs": [],
   "source": [
    "def check_availible_features(num_hexes, hex_types, tokens):\n",
    "    \"\"\"\n",
    "    Quick QC function to check if the number of hex_types, tokens \n",
    "    and ports is correct. \n",
    "    \"\"\"\n",
    "    if len(hex_types) != num_hexes: print(\"ERROR: num_hexes != len(hex_types)\")\n",
    "    if len(tokens) != num_hexes: print(\"ERROR: num_hexes != len(tokens)\")\n",
    "    \n",
    "def assign_hex_types(availible_hex_types: ndarray[int], desert_center = False) -> ndarray[int]:\n",
    "    \"\"\"\n",
    "    Assigns a terrain type to each hex coordinate\n",
    "    \"\"\"\n",
    "    hex_terrains = np.random.permutation(availible_hex_types)\n",
    "    \n",
    "    if desert_center is True:\n",
    "        desert_index = list(hex_terrains).index(0)\n",
    "        # Center token is always generated as the middle index in the list\n",
    "        center_index = (len(availible_tokens) - 1)//2\n",
    "        hex_terrains[[desert_index, center_index]] = hex_terrains[[center_index, desert_index]]\n",
    "    \n",
    "    return hex_terrains\n",
    "\n",
    "def assign_tokens(availible_tokens: ndarray[int], board_hex_types: ndarray[int]) -> ndarray[int]:\n",
    "    \"\"\"\n",
    "    Assigns token to hexes\n",
    "    Need to ensure that the 'zero' token is on the desert hex.\n",
    "    \"\"\"\n",
    "    token_assignment = np.random.permutation(availible_tokens)\n",
    "    desert_index = list(board_hex_types).index(0)\n",
    "    token_zero_index = list(token_assignment).index(0)\n",
    "    # Swap\n",
    "    token_assignment[[desert_index, token_zero_index]] = token_assignment[[token_zero_index, desert_index]]\n",
    "    return token_assignment\n",
    "\n",
    "\n",
    "def assign_harbors(availible_harbors: ndarray[int]) -> ndarray[int]:\n",
    "    harbor_assignment = np.random.permutation(availible_harbors)\n",
    "    return harbor_assignment"
   ]
  },
  {
   "cell_type": "markdown",
   "id": "5778b751-d438-40d7-bb30-8ae5e5d56d5c",
   "metadata": {},
   "source": [
    "Thes functions are used to create the maps."
   ]
  },
  {
   "cell_type": "code",
   "execution_count": 6,
   "id": "7b890f4d-2bcc-4970-b859-c8693bbcfe8f",
   "metadata": {},
   "outputs": [],
   "source": [
    "def pad_array(A, size):\n",
    "    d = size - len(A)\n",
    "    return np.pad(A, pad_width=(0, d), mode='constant', constant_values=-1)\n",
    "\n",
    "# np.array\n",
    "def create_random_board(radius: int, \n",
    "                        availible_hex_types: ndarray[int], \n",
    "                        availible_tokens: ndarray[int],\n",
    "                        availible_harbors,\n",
    "                        desert_center = False) -> ndarray:\n",
    "    hex_types = assign_hex_types(availible_hex_types, desert_center)\n",
    "    tokens = assign_tokens(availible_tokens, hex_types)\n",
    "    harbors = assign_harbors(availible_harbors)\n",
    "    harbors_padded = pad_array(harbors, len(hex_types))\n",
    "    board = np.array((hex_types, tokens, harbors_padded))\n",
    "    return board\n",
    "\n",
    "\n",
    "def create_n_random_boards(n: int,\n",
    "                           radius: int, \n",
    "                           availible_hex_types: ndarray[int], \n",
    "                           availible_tokens: ndarray[int],\n",
    "                           availible_harbors,\n",
    "                           desert_center = False) -> ndarray:\n",
    "    num_hexes = calc_number_hexes(radius)\n",
    "    boards = np.zeros((n, 3, num_hexes), dtype = int)\n",
    "    for i in range(n):\n",
    "        board = create_random_board(radius, availible_hex_types, availible_tokens, availible_harbors, desert_center)\n",
    "        boards[i] = board\n",
    "        \n",
    "    return(boards)"
   ]
  },
  {
   "cell_type": "markdown",
   "id": "14e18816-1e7a-4882-bc0d-9a319359d810",
   "metadata": {},
   "source": [
    "These functions are used to allow interaction with the vertices of hexes."
   ]
  },
  {
   "cell_type": "code",
   "execution_count": 7,
   "id": "9ea049e5-5a5b-4839-a305-07400cff0c32",
   "metadata": {},
   "outputs": [],
   "source": [
    "def get_vertices(h):\n",
    "    \"\"\"\n",
    "    Given a hex h, returns the coordinates of its 6 vertices.\n",
    "    https://www.redblobgames.com/grids/parts/#hexagon-coordinates\n",
    "    \"\"\"\n",
    "    q, r = h\n",
    "    vertices = [\n",
    "        v(q, r, 1), \n",
    "        v(q, r + 1, 0),\n",
    "        v(q + 1, r - 1, 1),\n",
    "        v(q, r, 0),\n",
    "        v(q, r - 1, 1),\n",
    "        v(q - 1, r + 1, 0)\n",
    "    ]\n",
    "    return vertices\n",
    "\n",
    "# print(get_vertices(Hex(0,0)))\n",
    "\n",
    "def vertex_to_hex_trip(v):\n",
    "    \"\"\"\n",
    "    Given a vertex vertex v, returns the corresponding hex trip.\n",
    "    \"\"\"\n",
    "    q, r, d = v\n",
    "    h1 = h(q,r)\n",
    "    if d == 1:\n",
    "        h2, h3 = h(q - 1, r + 1), h(q, r + 1)\n",
    "    else:\n",
    "        h2, h3 = h(q + 1, r - 1), h(q, r - 1)\n",
    "    return np.array([h1, h2, h3])                                     "
   ]
  },
  {
   "cell_type": "markdown",
   "id": "f1242ebd-85f8-4cbd-a4ba-9b3a1f3bf739",
   "metadata": {
    "tags": []
   },
   "source": [
    "### Graphical representation"
   ]
  },
  {
   "cell_type": "markdown",
   "id": "2b8efd59-4333-4353-bfd3-6aa9ec98f212",
   "metadata": {},
   "source": [
    "The following functions are used to calculate the positions of pixels."
   ]
  },
  {
   "cell_type": "code",
   "execution_count": 8,
   "id": "971fdd71-d8fb-4cb3-9056-bc6a84a7f23a",
   "metadata": {},
   "outputs": [],
   "source": [
    "def rotate(point, angle: float, origin = np.array([0,0])):\n",
    "    \"\"\"Rotates a two dimensional point by a given angle about another point.\n",
    "    \"\"\"\n",
    "    i = point\n",
    "    o = origin\n",
    "    a = angle\n",
    "    del_x = i[0] - o[0]\n",
    "    del_y = i[1] - o[1]\n",
    "    x = o[0] + del_x * cos(a) - del_y * sin(a)\n",
    "    y = o[1] + del_x * sin(a) + del_y * cos(a)\n",
    "    return p(x,y)\n",
    "\n",
    "\n",
    "def hex_to_center_pixel(hex_, size: float):\n",
    "    \"\"\"Converts hex coords to a single xy coord denoting the hex's center.\n",
    "    \"\"\"\n",
    "    q, r = hex_\n",
    "    x = size * (sqrt(3) * q + sqrt(3)/2 * r)\n",
    "    y = size * (3/2 * r)\n",
    "    return p(x,y)\n",
    "\n",
    "\n",
    "def hex_to_vertex_pixels(hex_, size: float):\n",
    "    \"\"\"Converts hex coords to six xy coords denoting the hex's vertices.\n",
    "    \"\"\"\n",
    "    center = hex_to_center_pixel(hex_, size)\n",
    "    p1 = center + np.array([0, size])\n",
    "    angles = [pi/3 * x for x in range(6)]\n",
    "    return np.array([rotate(p1, angle, center) for angle in angles])\n",
    "\n",
    "\n",
    "def hex_intersection_to_vertex_pixel(hex_trip):\n",
    "    \"\"\"Converts 3 hex coords to a single xy coord denoting their shared vertex.\n",
    "    \"\"\"\n",
    "    h1, h2, h3 = hex_trip\n",
    "    c1 = hex_to_center_pixel(h1, 50)\n",
    "    c2 = hex_to_center_pixel(h2, 50)\n",
    "    c3 = hex_to_center_pixel(h3, 50)\n",
    "    vertex = p((c1[0] + c2[0] + c3[0])/3, (c1[1] + c2[1] + c3[1])/3)\n",
    "    return vertex"
   ]
  },
  {
   "cell_type": "code",
   "execution_count": 9,
   "id": "e03b4c60-4027-4169-9c73-066284616c27",
   "metadata": {},
   "outputs": [],
   "source": [
    "def roll_freq(value: int):\n",
    "    \"\"\" Returns the relative frequency of a value being rolled by two dice.\n",
    "    \n",
    "    Returns the number of ways a value, between 2 and 12 inclusive, can be\n",
    "    rolled by two, standard six sided die.\n",
    "    \n",
    "    Args:\n",
    "        value: An int between 2 and 12.\n",
    "    \n",
    "    Return:\n",
    "        rel_freq: An int, the number of different ways to roll value.\n",
    "    \"\"\"\n",
    "    assert value >= 2 and value <= 12\n",
    "    rel_freq = 6 - abs(7 - value)\n",
    "    return rel_freq"
   ]
  },
  {
   "cell_type": "code",
   "execution_count": 10,
   "id": "22a78d99-4ba2-44a3-b26f-f388b418e8c3",
   "metadata": {},
   "outputs": [],
   "source": [
    "def init_canvas(width, height):\n",
    "    \"\"\" Initialise the SVG canvas on which to draw the board.\n",
    "    \"\"\"\n",
    "    d = draw.Drawing(width, height, origin='center')\n",
    "    return d\n",
    "\n",
    "\n",
    "def draw_background(d):\n",
    "    \"\"\" Draw the background/water hex.\n",
    "    \"\"\"\n",
    "    origin = p(0,0)\n",
    "    vertex_coords = hex_to_vertex_pixels(origin, hex_size * 5.8)\n",
    "    for i in range(len(vertex_coords)):\n",
    "        vertex_coords[i] = rotate(vertex_coords[i], pi/6)\n",
    "    vertex_coords = vertex_coords.flatten()\n",
    "\n",
    "    d.append(draw.Lines(*vertex_coords,close=True,\n",
    "                            fill=hex_colours[6],\n",
    "                            stroke=stroke_colour, stroke_width=stroke_width), z=0)\n",
    "    \n",
    "    \n",
    "def draw_board_outline(d, hex_grid):\n",
    "    \"\"\" Draw a plain outline of the board.\n",
    "    \"\"\"\n",
    "    for hex_ in hex_grid:\n",
    "        vertex_coords = hex_to_vertex_pixels(hex_, hex_size).flatten()\n",
    "        d.append(draw.Lines(*vertex_coords,\n",
    "                            close=True,\n",
    "                            fill='#FFFFFF',\n",
    "                            stroke=stroke_colour, \n",
    "                            stroke_width=stroke_width,\n",
    "                            coords = hex_\n",
    "                           ),\n",
    "                z=1)\n",
    "\n",
    "def draw_coords(d, hex_grid):\n",
    "    \"\"\"Display the coords of each hex on the board. \n",
    "    \"\"\"\n",
    "    for hex_ in hex_grid:\n",
    "        center = hex_to_center_pixel(hex_, hex_size)\n",
    "        d.append(draw.Text(str(axial_to_cube(hex_)), fontSize=18, \n",
    "                   x=center[0], y=center[1], center=True, \n",
    "                   valign = 'middle', font_family = \"Open Sans\", \n",
    "                   fill = 'black'), \n",
    "                 z=2)\n",
    "        \n",
    "    \n",
    "def fill_board(d, hex_grid, board):\n",
    "    \"\"\" Fill the board hexes with their type colours.\n",
    "    \"\"\"\n",
    "    for element in d.allElements():\n",
    "        try:\n",
    "            hex_ = element.args['coords']\n",
    "            ind = hex_grid[hex_]\n",
    "            hex_type = board[0][ind]\n",
    "            fill_colour = hex_colours[hex_type]\n",
    "            element.args['fill'] = fill_colour\n",
    "        except KeyError: \n",
    "            pass\n",
    "\n",
    "        \n",
    "def draw_tokens(d, hex_grid, board, show_dots=True):\n",
    "    \"\"\" Draw each hexes token on the board.\n",
    "    \"\"\"\n",
    "    \n",
    "    radius = 25\n",
    "    \n",
    "    for hex_ in hex_grid:\n",
    "        center = hex_to_center_pixel(hex_, hex_size)\n",
    "        ind = hex_grid[hex_]\n",
    "        hex_token = board[1][ind]\n",
    "        if hex_token != 0:\n",
    "            if hex_token == 6 or hex_token == 8:\n",
    "                token_colour = token_text_colour[0]\n",
    "            else:\n",
    "                token_colour = token_text_colour[1]\n",
    "            font_size = 31 - 2.5 * abs(7 - hex_token)\n",
    "\n",
    "            d.append(draw.Circle(center[0], center[1], \n",
    "                                 r=radius, fill=token_fill_colour), \n",
    "                     z=2)\n",
    "\n",
    "            if show_dots: \n",
    "                vert_off = 3 \n",
    "            else: \n",
    "                vert_off = 0\n",
    "\n",
    "            d.append(draw.Text(str(hex_token), fontSize=font_size, \n",
    "                               x=center[0], y=center[1] + vert_off, center=True, \n",
    "                               valign = 'middle', font_family = font_family, \n",
    "                               fill = token_colour, font_weight = 'bold'),\n",
    "                     z=3)\n",
    "\n",
    "            if show_dots:\n",
    "                r = 1.6\n",
    "                num_dots = roll_freq(hex_token)\n",
    "                dots = []\n",
    "                if num_dots % 2 == 0:\n",
    "                    for i in range(1, num_dots // 2 + 1):\n",
    "                        x_del = 3*r/2 + (i - 1) * 3 * r\n",
    "                        dots.append(p(center[0] + x_del, center[1] - 15))\n",
    "                        dots.append(p(center[0] - x_del, center[1] - 15))\n",
    "\n",
    "                else:\n",
    "                    for i in range(0, num_dots // 2 + 1):\n",
    "                        x_del = 3 * r * i\n",
    "                        dots.append(p(center[0] + x_del, center[1] - 15))\n",
    "                        if x_del != 0:\n",
    "                            dots.append(p(center[0] - x_del, center[1] - 15))\n",
    "\n",
    "                for dot in dots:\n",
    "                    d.append(draw.Circle(dot[0], dot[1], r, \n",
    "                                         fill = token_colour), z=3)\n",
    "        \n",
    "\n",
    "\n",
    "\n",
    "def draw_harbors(d, harbor_locations, board, simple=False):\n",
    "    \"\"\"Draw the harbors onto the board.\n",
    "    \"\"\"\n",
    "    for i in range(len(harbor_locations)):\n",
    "        vertex_pair = harbor_locations[i]\n",
    "        hex_trip_0 = vertex_to_hex_trip(vertex_pair[0])\n",
    "        hex_trip_1 = vertex_to_hex_trip(vertex_pair[1])\n",
    "        p1 = hex_intersection_to_vertex_pixel(hex_trip_0)\n",
    "        p2 = hex_intersection_to_vertex_pixel(hex_trip_1)\n",
    "        p3 = rotate(p1, pi/3, p2)\n",
    "        harbor_type = board[2][i]\n",
    "        fill = harbor_colours[harbor_type]\n",
    "        ratio = 3 if harbor_type == 'generic' else 2\n",
    "        if not simple:\n",
    "            harbor_fill = token_fill_colour\n",
    "            d.append(draw.Text(f'{ratio}:1',\n",
    "                               fill=fill, \n",
    "                               fontSize=12, \n",
    "                               font_family=font_family,\n",
    "                               font_weight='bold', \n",
    "                               x=p3[0], y=p3[1], center=True, valign = 'middle'), \n",
    "                     z = 4)\n",
    "        else:\n",
    "            harbor_fill = fill\n",
    "        \n",
    "        d.append(draw.Circle(p3[0], p3[1], r=13, \n",
    "                     fill=harbor_fill, fill_opacity=1, \n",
    "                     stroke=fill, stroke_width=4), z=3)\n",
    "        d.append(draw.Line(p1[0], p1[1], p3[0], p3[1], \n",
    "                           stroke = 'black', stroke_width=3,\n",
    "                           stroke_opacity = 0.5), z=1)\n",
    "        d.append(draw.Line(p2[0], p2[1], p3[0], p3[1], \n",
    "                           stroke ='black', stroke_width=3, \n",
    "                           stroke_opacity = 0.5), z=1)\n",
    "\n",
    "        \n",
    "def draw_complete_board(board, width, height, simple=False):\n",
    "    \"\"\"Draw the board, wrapper function.\n",
    "    \"\"\"\n",
    "    show_dots = False if simple else True\n",
    "    d = init_canvas(width, height)\n",
    "    draw_background(d)\n",
    "    draw_board_outline(d, board)\n",
    "    fill_board(d, board)\n",
    "    draw_tokens(d, board, show_dots=show_dots)\n",
    "    draw_harbors(d, board, simple=simple)\n",
    "    return d"
   ]
  },
  {
   "cell_type": "markdown",
   "id": "eb7bcbdc-7f7c-425f-8dda-a205b9ee5cee",
   "metadata": {
    "tags": []
   },
   "source": [
    "### Instantiating a board"
   ]
  },
  {
   "cell_type": "code",
   "execution_count": 11,
   "id": "6e83a88e-904d-442b-8d26-a3f5491fb9aa",
   "metadata": {},
   "outputs": [],
   "source": [
    "radius = 2\n",
    "\n",
    "hex_type_map = np.array(['desert', 'grain', 'lumber', 'wool', 'brick', 'ore'])\n",
    "harbor_type_map = np.array(['generic', 'grain', 'lumber', 'wool', 'brick', 'ore'])\n",
    "\n",
    "availible_hex_types = (4 * [1] + \n",
    "         4 * [2] + \n",
    "         4 * [3] + \n",
    "         3 * [4] + \n",
    "         3 * [5] + \n",
    "         1 * [0])\n",
    "\n",
    "availible_tokens = (1 * [0] +\n",
    "      1 * [2] + \n",
    "      2 * [3] + \n",
    "      2 * [4] + \n",
    "      2 * [5] + \n",
    "      2 * [6] + \n",
    "      2 * [8] + \n",
    "      2 * [9] + \n",
    "      2 * [10] + \n",
    "      2 * [11] + \n",
    "      1 * [12])  \n",
    "\n",
    "availible_harbors = (1 * [1] + \n",
    "                1 * [2] + \n",
    "                1 * [3] + \n",
    "                1 * [4] +\n",
    "                1 * [5] + \n",
    "                4 * [0])\n",
    "\n",
    "harbor_locations = [ # Specified using the vertex encoding\n",
    "    [[-1,  3,  0], [-1,  2,  1]],\n",
    "     [[-2,  2,  1], [-3,  3,  0]],\n",
    "     [[-3,  2,  0], [-2,  0,  1]],\n",
    "     [[-2,  0,  0], [-1, -2,  1]],\n",
    "     [[ 0, -3,  1], [ 0, -2,  0]],\n",
    "     [[ 1, -2,  0], [ 2, -3,  1]],\n",
    "     [[ 2, -1,  0], [ 3, -2,  1]],\n",
    "     [[ 3, -1,  1], [2, 1, 0]],\n",
    "     [[1, 2, 0], [1, 1, 1]]\n",
    "]"
   ]
  },
  {
   "cell_type": "code",
   "execution_count": 12,
   "id": "5e757bbf-2ba7-47ee-a3fc-696c18c54cdf",
   "metadata": {},
   "outputs": [],
   "source": [
    "# Generate boards\n",
    "desert_center = False\n",
    "n = int(1e6)\n",
    "boards_file = 'boards_1e6.npy'\n",
    "# boards = create_n_random_boards(n, radius, availible_hex_types, availible_tokens, availible_harbors, desert_center)\n",
    "# np.save(boards_file, boards)"
   ]
  },
  {
   "cell_type": "code",
   "execution_count": 13,
   "id": "200359a4-9fcd-4a8e-8bad-3b85e05121f9",
   "metadata": {},
   "outputs": [],
   "source": [
    "# Load boards\n",
    "boards = np.load(boards_file)"
   ]
  },
  {
   "cell_type": "code",
   "execution_count": 14,
   "id": "92b0b44c-05d8-4e3d-ab09-6683282a4f77",
   "metadata": {},
   "outputs": [
    {
     "data": {
      "text/plain": [
       "array([[ 5,  3,  2,  4,  3,  4,  4,  5,  2,  1,  2,  1,  1,  1,  0,  3,\n",
       "         2,  3,  5],\n",
       "       [ 4,  8,  9,  6,  5, 10,  4,  5,  6,  3,  9, 11, 12,  8,  0, 11,\n",
       "        10,  2,  3],\n",
       "       [ 4,  0,  0,  3,  0,  5,  1,  0,  2, -1, -1, -1, -1, -1, -1, -1,\n",
       "        -1, -1, -1]])"
      ]
     },
     "execution_count": 14,
     "metadata": {},
     "output_type": "execute_result"
    }
   ],
   "source": [
    "hex_grid = create_hex_grid(radius)\n",
    "board = create_random_board(2, availible_hex_types, availible_tokens, availible_harbors, desert_center = True)\n",
    "board = boards[0]\n",
    "board"
   ]
  },
  {
   "cell_type": "code",
   "execution_count": 15,
   "id": "4fbf962f-0fa9-4618-a0d1-68075373e6cf",
   "metadata": {},
   "outputs": [],
   "source": [
    "width = 600\n",
    "height = width\n",
    "hex_size = 50\n",
    "hex_colours = {\n",
    "    0: '#DCBB96',\n",
    "    1: '#DFB853',\n",
    "    2: '#20703D',\n",
    "    3: '#A7C957',\n",
    "    4: '#C37C3A',\n",
    "    5: '#969696',\n",
    "    6: '#B9E3F3'\n",
    "}\n",
    "token_fill_colour = \"#FFEDD0\"\n",
    "token_text_colour = (\"#BD0000\", \"#100C08\")\n",
    "harbor_colours = { # Darker shades of hex_colours\n",
    "    0: '#2A1B0D',\n",
    "    1: '#D9A82E',\n",
    "    2: '#1B5F34',\n",
    "    3: '#93B93C',\n",
    "    4: '#A86B32',\n",
    "    5: '#969696'\n",
    "}\n",
    "\n",
    "font_family = \"Open Sans\"\n",
    "stroke_colour = \"#100C08\"\n",
    "stroke_width = 3"
   ]
  },
  {
   "cell_type": "code",
   "execution_count": 16,
   "id": "558b191d-0a40-4734-abd1-e85f65f39990",
   "metadata": {},
   "outputs": [
    {
     "data": {
      "image/svg+xml": [
       "<?xml version=\"1.0\" encoding=\"UTF-8\"?>\n",
       "<svg xmlns=\"http://www.w3.org/2000/svg\" xmlns:xlink=\"http://www.w3.org/1999/xlink\"\n",
       "     width=\"720.0\" height=\"720.0\" viewBox=\"-300.0 -300.0 600 600\">\n",
       "<defs>\n",
       "</defs>\n",
       "<path d=\"M-144.99999999999997,-251.14736709748723 L-290.0,-4.263256414560601e-14 L-145.00000000000006,251.14736709748718 L144.99999999999994,251.14736709748726 L290.0,1.8474111129762605e-13 L145.00000000000023,-251.1473670974871 Z\" fill=\"#B9E3F3\" stroke=\"#100C08\" stroke-width=\"3\" />\n",
       "<path d=\"M-173.20508075688772,-50.0 L-216.50635094610965,-25.000000000000007 L-216.50635094610965,24.99999999999999 L-173.20508075688772,50.0 L-129.9038105676658,25.00000000000002 L-129.90381056766577,-24.999999999999968 Z\" fill=\"#969696\" stroke=\"#100C08\" stroke-width=\"3\" coords=\"(-2, 0)\" />\n",
       "<path d=\"M-129.9038105676658,-125.0 L-173.20508075688772,-100.0 L-173.20508075688775,-50.000000000000014 L-129.9038105676658,-25.0 L-86.60254037844388,-49.99999999999998 L-86.60254037844385,-99.99999999999997 Z\" fill=\"#A7C957\" stroke=\"#100C08\" stroke-width=\"3\" coords=\"(-2, 1)\" />\n",
       "<path d=\"M-86.60254037844386,-200.0 L-129.9038105676658,-175.0 L-129.9038105676658,-125.00000000000001 L-86.60254037844386,-100.0 L-43.301270189221945,-124.99999999999997 L-43.30127018922191,-174.99999999999997 Z\" fill=\"#20703D\" stroke=\"#100C08\" stroke-width=\"3\" coords=\"(-2, 2)\" />\n",
       "<path d=\"M-129.9038105676658,25.0 L-173.20508075688772,49.99999999999999 L-173.20508075688775,99.99999999999999 L-129.9038105676658,125.0 L-86.60254037844388,100.00000000000003 L-86.60254037844385,50.00000000000003 Z\" fill=\"#C37C3A\" stroke=\"#100C08\" stroke-width=\"3\" coords=\"(-1, -1)\" />\n",
       "<path d=\"M-86.60254037844386,-50.0 L-129.9038105676658,-25.000000000000007 L-129.9038105676658,24.99999999999999 L-86.60254037844386,50.0 L-43.301270189221945,25.00000000000002 L-43.30127018922191,-24.999999999999968 Z\" fill=\"#A7C957\" stroke=\"#100C08\" stroke-width=\"3\" coords=\"(-1, 0)\" />\n",
       "<path d=\"M-43.30127018922193,-125.0 L-86.60254037844386,-100.0 L-86.60254037844388,-50.000000000000014 L-43.30127018922194,-25.0 L-1.4210854715202004e-14,-49.99999999999998 L2.1316282072803006e-14,-99.99999999999997 Z\" fill=\"#C37C3A\" stroke=\"#100C08\" stroke-width=\"3\" coords=\"(-1, 1)\" />\n",
       "<path d=\"M0.0,-200.0 L-43.30127018922193,-175.0 L-43.30127018922194,-125.00000000000001 L-6.123233995736766e-15,-100.0 L43.30127018922192,-124.99999999999997 L43.30127018922195,-174.99999999999997 Z\" fill=\"#C37C3A\" stroke=\"#100C08\" stroke-width=\"3\" coords=\"(-1, 2)\" />\n",
       "<path d=\"M-86.60254037844386,100.0 L-129.9038105676658,125.0 L-129.9038105676658,175.0 L-86.60254037844386,200.0 L-43.301270189221945,175.00000000000003 L-43.30127018922191,125.00000000000003 Z\" fill=\"#969696\" stroke=\"#100C08\" stroke-width=\"3\" coords=\"(0, -2)\" />\n",
       "<path d=\"M-43.30127018922193,25.0 L-86.60254037844386,49.99999999999999 L-86.60254037844388,99.99999999999999 L-43.30127018922194,125.0 L-1.4210854715202004e-14,100.00000000000003 L2.1316282072803006e-14,50.00000000000003 Z\" fill=\"#20703D\" stroke=\"#100C08\" stroke-width=\"3\" coords=\"(0, -1)\" />\n",
       "<path d=\"M0.0,-50.0 L-43.30127018922193,-25.000000000000007 L-43.30127018922194,24.99999999999999 L-6.123233995736766e-15,50.0 L43.30127018922192,25.00000000000002 L43.30127018922195,-24.999999999999968 Z\" fill=\"#DFB853\" stroke=\"#100C08\" stroke-width=\"3\" coords=\"(0, 0)\" />\n",
       "<path d=\"M43.30127018922193,-125.0 L0.0,-100.0 L-7.105427357601002e-15,-50.000000000000014 L43.301270189221924,-25.0 L86.60254037844385,-49.99999999999998 L86.60254037844388,-99.99999999999997 Z\" fill=\"#20703D\" stroke=\"#100C08\" stroke-width=\"3\" coords=\"(0, 1)\" />\n",
       "<path d=\"M86.60254037844386,-200.0 L43.30127018922193,-175.0 L43.301270189221924,-125.00000000000001 L86.60254037844386,-100.0 L129.90381056766577,-124.99999999999997 L129.9038105676658,-174.99999999999997 Z\" fill=\"#DFB853\" stroke=\"#100C08\" stroke-width=\"3\" coords=\"(0, 2)\" />\n",
       "<path d=\"M0.0,100.0 L-43.30127018922193,125.0 L-43.30127018922194,175.0 L-6.123233995736766e-15,200.0 L43.30127018922192,175.00000000000003 L43.30127018922195,125.00000000000003 Z\" fill=\"#DFB853\" stroke=\"#100C08\" stroke-width=\"3\" coords=\"(1, -2)\" />\n",
       "<path d=\"M43.30127018922193,25.0 L0.0,49.99999999999999 L-7.105427357601002e-15,99.99999999999999 L43.301270189221924,125.0 L86.60254037844385,100.00000000000003 L86.60254037844388,50.00000000000003 Z\" fill=\"#DFB853\" stroke=\"#100C08\" stroke-width=\"3\" coords=\"(1, -1)\" />\n",
       "<path d=\"M86.60254037844386,-50.0 L43.30127018922193,-25.000000000000007 L43.301270189221924,24.99999999999999 L86.60254037844386,50.0 L129.90381056766577,25.00000000000002 L129.9038105676658,-24.999999999999968 Z\" fill=\"#DCBB96\" stroke=\"#100C08\" stroke-width=\"3\" coords=\"(1, 0)\" />\n",
       "<path d=\"M129.9038105676658,-125.0 L86.60254037844388,-100.0 L86.60254037844386,-50.000000000000014 L129.9038105676658,-25.0 L173.20508075688772,-49.99999999999998 L173.20508075688775,-99.99999999999997 Z\" fill=\"#A7C957\" stroke=\"#100C08\" stroke-width=\"3\" coords=\"(1, 1)\" />\n",
       "<path d=\"M86.60254037844386,100.0 L43.30127018922193,125.0 L43.301270189221924,175.0 L86.60254037844386,200.0 L129.90381056766577,175.00000000000003 L129.9038105676658,125.00000000000003 Z\" fill=\"#20703D\" stroke=\"#100C08\" stroke-width=\"3\" coords=\"(2, -2)\" />\n",
       "<path d=\"M129.9038105676658,25.0 L86.60254037844388,49.99999999999999 L86.60254037844386,99.99999999999999 L129.9038105676658,125.0 L173.20508075688772,100.00000000000003 L173.20508075688775,50.00000000000003 Z\" fill=\"#A7C957\" stroke=\"#100C08\" stroke-width=\"3\" coords=\"(2, -1)\" />\n",
       "<path d=\"M173.20508075688772,-50.0 L129.9038105676658,-25.000000000000007 L129.9038105676658,24.99999999999999 L173.20508075688772,50.0 L216.50635094610965,25.00000000000002 L216.50635094610968,-24.999999999999968 Z\" fill=\"#969696\" stroke=\"#100C08\" stroke-width=\"3\" coords=\"(2, 0)\" />\n",
       "<path d=\"M43.30127018922193,-175.0 L43.30127018922194,-225.0\" stroke=\"black\" stroke-width=\"3\" stroke-opacity=\"0.5\" />\n",
       "<path d=\"M7.105427357601002e-15,-200.0 L43.30127018922194,-225.0\" stroke=\"black\" stroke-width=\"3\" stroke-opacity=\"0.5\" />\n",
       "<path d=\"M-86.60254037844385,-200.0 L-129.9038105676658,-225.0\" stroke=\"black\" stroke-width=\"3\" stroke-opacity=\"0.5\" />\n",
       "<path d=\"M-129.9038105676658,-175.0 L-129.9038105676658,-225.0\" stroke=\"black\" stroke-width=\"3\" stroke-opacity=\"0.5\" />\n",
       "<path d=\"M-173.20508075688772,-100.0 L-216.50635094610965,-75.0\" stroke=\"black\" stroke-width=\"3\" stroke-opacity=\"0.5\" />\n",
       "<path d=\"M-173.20508075688772,-50.0 L-216.50635094610965,-75.0\" stroke=\"black\" stroke-width=\"3\" stroke-opacity=\"0.5\" />\n",
       "<path d=\"M-173.20508075688772,50.0 L-216.50635094610965,75.0\" stroke=\"black\" stroke-width=\"3\" stroke-opacity=\"0.5\" />\n",
       "<path d=\"M-173.20508075688772,100.0 L-216.50635094610965,75.0\" stroke=\"black\" stroke-width=\"3\" stroke-opacity=\"0.5\" />\n",
       "<path d=\"M-129.90381056766577,175.0 L-129.9038105676658,224.99999999999997\" stroke=\"black\" stroke-width=\"3\" stroke-opacity=\"0.5\" />\n",
       "<path d=\"M-86.60254037844386,200.0 L-129.9038105676658,224.99999999999997\" stroke=\"black\" stroke-width=\"3\" stroke-opacity=\"0.5\" />\n",
       "<path d=\"M-7.105427357601002e-15,200.0 L43.301270189221924,225.0\" stroke=\"black\" stroke-width=\"3\" stroke-opacity=\"0.5\" />\n",
       "<path d=\"M43.301270189221924,175.0 L43.301270189221924,225.0\" stroke=\"black\" stroke-width=\"3\" stroke-opacity=\"0.5\" />\n",
       "<path d=\"M129.9038105676658,125.0 L173.20508075688772,150.0\" stroke=\"black\" stroke-width=\"3\" stroke-opacity=\"0.5\" />\n",
       "<path d=\"M173.20508075688772,100.0 L173.20508075688772,150.0\" stroke=\"black\" stroke-width=\"3\" stroke-opacity=\"0.5\" />\n",
       "<path d=\"M216.50635094610968,25.0 L259.8076211353316,7.105427357601002e-15\" stroke=\"black\" stroke-width=\"3\" stroke-opacity=\"0.5\" />\n",
       "<path d=\"M216.50635094610968,-25.0 L259.8076211353316,7.105427357601002e-15\" stroke=\"black\" stroke-width=\"3\" stroke-opacity=\"0.5\" />\n",
       "<path d=\"M173.20508075688772,-100.0 L173.20508075688775,-150.0\" stroke=\"black\" stroke-width=\"3\" stroke-opacity=\"0.5\" />\n",
       "<path d=\"M129.9038105676658,-125.0 L173.20508075688775,-150.0\" stroke=\"black\" stroke-width=\"3\" stroke-opacity=\"0.5\" />\n",
       "<circle cx=\"-173.20508075688772\" cy=\"-0.0\" r=\"25\" fill=\"#FFEDD0\" />\n",
       "<circle cx=\"-129.9038105676658\" cy=\"-75.0\" r=\"25\" fill=\"#FFEDD0\" />\n",
       "<circle cx=\"-86.60254037844386\" cy=\"-150.0\" r=\"25\" fill=\"#FFEDD0\" />\n",
       "<circle cx=\"-129.9038105676658\" cy=\"75.0\" r=\"25\" fill=\"#FFEDD0\" />\n",
       "<circle cx=\"-86.60254037844386\" cy=\"-0.0\" r=\"25\" fill=\"#FFEDD0\" />\n",
       "<circle cx=\"-43.30127018922193\" cy=\"-75.0\" r=\"25\" fill=\"#FFEDD0\" />\n",
       "<circle cx=\"0.0\" cy=\"-150.0\" r=\"25\" fill=\"#FFEDD0\" />\n",
       "<circle cx=\"-86.60254037844386\" cy=\"150.0\" r=\"25\" fill=\"#FFEDD0\" />\n",
       "<circle cx=\"-43.30127018922193\" cy=\"75.0\" r=\"25\" fill=\"#FFEDD0\" />\n",
       "<circle cx=\"0.0\" cy=\"-0.0\" r=\"25\" fill=\"#FFEDD0\" />\n",
       "<circle cx=\"43.30127018922193\" cy=\"-75.0\" r=\"25\" fill=\"#FFEDD0\" />\n",
       "<circle cx=\"86.60254037844386\" cy=\"-150.0\" r=\"25\" fill=\"#FFEDD0\" />\n",
       "<circle cx=\"0.0\" cy=\"150.0\" r=\"25\" fill=\"#FFEDD0\" />\n",
       "<circle cx=\"43.30127018922193\" cy=\"75.0\" r=\"25\" fill=\"#FFEDD0\" />\n",
       "<circle cx=\"129.9038105676658\" cy=\"-75.0\" r=\"25\" fill=\"#FFEDD0\" />\n",
       "<circle cx=\"86.60254037844386\" cy=\"150.0\" r=\"25\" fill=\"#FFEDD0\" />\n",
       "<circle cx=\"129.9038105676658\" cy=\"75.0\" r=\"25\" fill=\"#FFEDD0\" />\n",
       "<circle cx=\"173.20508075688772\" cy=\"-0.0\" r=\"25\" fill=\"#FFEDD0\" />\n",
       "<text x=\"-173.20508075688772\" y=\"-3.0\" font-size=\"23.5\" font-family=\"Open Sans\" fill=\"#100C08\" font-weight=\"bold\" text-anchor=\"middle\" dy=\"0.4em\">4</text>\n",
       "<circle cx=\"-173.20508075688772\" cy=\"15.0\" r=\"1.6\" fill=\"#100C08\" />\n",
       "<circle cx=\"-168.4050807568877\" cy=\"15.0\" r=\"1.6\" fill=\"#100C08\" />\n",
       "<circle cx=\"-178.00508075688774\" cy=\"15.0\" r=\"1.6\" fill=\"#100C08\" />\n",
       "<text x=\"-129.9038105676658\" y=\"-78.0\" font-size=\"28.5\" font-family=\"Open Sans\" fill=\"#BD0000\" font-weight=\"bold\" text-anchor=\"middle\" dy=\"0.4em\">8</text>\n",
       "<circle cx=\"-129.9038105676658\" cy=\"-60.0\" r=\"1.6\" fill=\"#BD0000\" />\n",
       "<circle cx=\"-125.1038105676658\" cy=\"-60.0\" r=\"1.6\" fill=\"#BD0000\" />\n",
       "<circle cx=\"-134.7038105676658\" cy=\"-60.0\" r=\"1.6\" fill=\"#BD0000\" />\n",
       "<circle cx=\"-120.3038105676658\" cy=\"-60.0\" r=\"1.6\" fill=\"#BD0000\" />\n",
       "<circle cx=\"-139.5038105676658\" cy=\"-60.0\" r=\"1.6\" fill=\"#BD0000\" />\n",
       "<text x=\"-86.60254037844386\" y=\"-153.0\" font-size=\"26.0\" font-family=\"Open Sans\" fill=\"#100C08\" font-weight=\"bold\" text-anchor=\"middle\" dy=\"0.4em\">9</text>\n",
       "<circle cx=\"-84.20254037844386\" cy=\"-135.0\" r=\"1.6\" fill=\"#100C08\" />\n",
       "<circle cx=\"-89.00254037844387\" cy=\"-135.0\" r=\"1.6\" fill=\"#100C08\" />\n",
       "<circle cx=\"-79.40254037844386\" cy=\"-135.0\" r=\"1.6\" fill=\"#100C08\" />\n",
       "<circle cx=\"-93.80254037844387\" cy=\"-135.0\" r=\"1.6\" fill=\"#100C08\" />\n",
       "<text x=\"-129.9038105676658\" y=\"72.0\" font-size=\"28.5\" font-family=\"Open Sans\" fill=\"#BD0000\" font-weight=\"bold\" text-anchor=\"middle\" dy=\"0.4em\">6</text>\n",
       "<circle cx=\"-129.9038105676658\" cy=\"90.0\" r=\"1.6\" fill=\"#BD0000\" />\n",
       "<circle cx=\"-125.1038105676658\" cy=\"90.0\" r=\"1.6\" fill=\"#BD0000\" />\n",
       "<circle cx=\"-134.7038105676658\" cy=\"90.0\" r=\"1.6\" fill=\"#BD0000\" />\n",
       "<circle cx=\"-120.3038105676658\" cy=\"90.0\" r=\"1.6\" fill=\"#BD0000\" />\n",
       "<circle cx=\"-139.5038105676658\" cy=\"90.0\" r=\"1.6\" fill=\"#BD0000\" />\n",
       "<text x=\"-86.60254037844386\" y=\"-3.0\" font-size=\"26.0\" font-family=\"Open Sans\" fill=\"#100C08\" font-weight=\"bold\" text-anchor=\"middle\" dy=\"0.4em\">5</text>\n",
       "<circle cx=\"-84.20254037844386\" cy=\"15.0\" r=\"1.6\" fill=\"#100C08\" />\n",
       "<circle cx=\"-89.00254037844387\" cy=\"15.0\" r=\"1.6\" fill=\"#100C08\" />\n",
       "<circle cx=\"-79.40254037844386\" cy=\"15.0\" r=\"1.6\" fill=\"#100C08\" />\n",
       "<circle cx=\"-93.80254037844387\" cy=\"15.0\" r=\"1.6\" fill=\"#100C08\" />\n",
       "<text x=\"-43.30127018922193\" y=\"-78.0\" font-size=\"23.5\" font-family=\"Open Sans\" fill=\"#100C08\" font-weight=\"bold\" text-anchor=\"middle\" dy=\"0.4em\">10</text>\n",
       "<circle cx=\"-43.30127018922193\" cy=\"-60.0\" r=\"1.6\" fill=\"#100C08\" />\n",
       "<circle cx=\"-38.50127018922193\" cy=\"-60.0\" r=\"1.6\" fill=\"#100C08\" />\n",
       "<circle cx=\"-48.101270189221935\" cy=\"-60.0\" r=\"1.6\" fill=\"#100C08\" />\n",
       "<text x=\"0.0\" y=\"-153.0\" font-size=\"23.5\" font-family=\"Open Sans\" fill=\"#100C08\" font-weight=\"bold\" text-anchor=\"middle\" dy=\"0.4em\">4</text>\n",
       "<circle cx=\"0.0\" cy=\"-135.0\" r=\"1.6\" fill=\"#100C08\" />\n",
       "<circle cx=\"4.800000000000001\" cy=\"-135.0\" r=\"1.6\" fill=\"#100C08\" />\n",
       "<circle cx=\"-4.800000000000001\" cy=\"-135.0\" r=\"1.6\" fill=\"#100C08\" />\n",
       "<text x=\"-86.60254037844386\" y=\"147.0\" font-size=\"26.0\" font-family=\"Open Sans\" fill=\"#100C08\" font-weight=\"bold\" text-anchor=\"middle\" dy=\"0.4em\">5</text>\n",
       "<circle cx=\"-84.20254037844386\" cy=\"165.0\" r=\"1.6\" fill=\"#100C08\" />\n",
       "<circle cx=\"-89.00254037844387\" cy=\"165.0\" r=\"1.6\" fill=\"#100C08\" />\n",
       "<circle cx=\"-79.40254037844386\" cy=\"165.0\" r=\"1.6\" fill=\"#100C08\" />\n",
       "<circle cx=\"-93.80254037844387\" cy=\"165.0\" r=\"1.6\" fill=\"#100C08\" />\n",
       "<text x=\"-43.30127018922193\" y=\"72.0\" font-size=\"28.5\" font-family=\"Open Sans\" fill=\"#BD0000\" font-weight=\"bold\" text-anchor=\"middle\" dy=\"0.4em\">6</text>\n",
       "<circle cx=\"-43.30127018922193\" cy=\"90.0\" r=\"1.6\" fill=\"#BD0000\" />\n",
       "<circle cx=\"-38.50127018922193\" cy=\"90.0\" r=\"1.6\" fill=\"#BD0000\" />\n",
       "<circle cx=\"-48.101270189221935\" cy=\"90.0\" r=\"1.6\" fill=\"#BD0000\" />\n",
       "<circle cx=\"-33.70127018922193\" cy=\"90.0\" r=\"1.6\" fill=\"#BD0000\" />\n",
       "<circle cx=\"-52.90127018922193\" cy=\"90.0\" r=\"1.6\" fill=\"#BD0000\" />\n",
       "<text x=\"0.0\" y=\"-3.0\" font-size=\"21.0\" font-family=\"Open Sans\" fill=\"#100C08\" font-weight=\"bold\" text-anchor=\"middle\" dy=\"0.4em\">3</text>\n",
       "<circle cx=\"2.4000000000000004\" cy=\"15.0\" r=\"1.6\" fill=\"#100C08\" />\n",
       "<circle cx=\"-2.4000000000000004\" cy=\"15.0\" r=\"1.6\" fill=\"#100C08\" />\n",
       "<text x=\"43.30127018922193\" y=\"-78.0\" font-size=\"26.0\" font-family=\"Open Sans\" fill=\"#100C08\" font-weight=\"bold\" text-anchor=\"middle\" dy=\"0.4em\">9</text>\n",
       "<circle cx=\"45.70127018922193\" cy=\"-60.0\" r=\"1.6\" fill=\"#100C08\" />\n",
       "<circle cx=\"40.90127018922193\" cy=\"-60.0\" r=\"1.6\" fill=\"#100C08\" />\n",
       "<circle cx=\"50.501270189221934\" cy=\"-60.0\" r=\"1.6\" fill=\"#100C08\" />\n",
       "<circle cx=\"36.10127018922193\" cy=\"-60.0\" r=\"1.6\" fill=\"#100C08\" />\n",
       "<text x=\"86.60254037844386\" y=\"-153.0\" font-size=\"21.0\" font-family=\"Open Sans\" fill=\"#100C08\" font-weight=\"bold\" text-anchor=\"middle\" dy=\"0.4em\">11</text>\n",
       "<circle cx=\"89.00254037844387\" cy=\"-135.0\" r=\"1.6\" fill=\"#100C08\" />\n",
       "<circle cx=\"84.20254037844386\" cy=\"-135.0\" r=\"1.6\" fill=\"#100C08\" />\n",
       "<text x=\"0.0\" y=\"147.0\" font-size=\"18.5\" font-family=\"Open Sans\" fill=\"#100C08\" font-weight=\"bold\" text-anchor=\"middle\" dy=\"0.4em\">12</text>\n",
       "<circle cx=\"0.0\" cy=\"165.0\" r=\"1.6\" fill=\"#100C08\" />\n",
       "<text x=\"43.30127018922193\" y=\"72.0\" font-size=\"28.5\" font-family=\"Open Sans\" fill=\"#BD0000\" font-weight=\"bold\" text-anchor=\"middle\" dy=\"0.4em\">8</text>\n",
       "<circle cx=\"43.30127018922193\" cy=\"90.0\" r=\"1.6\" fill=\"#BD0000\" />\n",
       "<circle cx=\"48.101270189221935\" cy=\"90.0\" r=\"1.6\" fill=\"#BD0000\" />\n",
       "<circle cx=\"38.50127018922193\" cy=\"90.0\" r=\"1.6\" fill=\"#BD0000\" />\n",
       "<circle cx=\"52.90127018922193\" cy=\"90.0\" r=\"1.6\" fill=\"#BD0000\" />\n",
       "<circle cx=\"33.70127018922193\" cy=\"90.0\" r=\"1.6\" fill=\"#BD0000\" />\n",
       "<text x=\"129.9038105676658\" y=\"-78.0\" font-size=\"21.0\" font-family=\"Open Sans\" fill=\"#100C08\" font-weight=\"bold\" text-anchor=\"middle\" dy=\"0.4em\">11</text>\n",
       "<circle cx=\"132.3038105676658\" cy=\"-60.0\" r=\"1.6\" fill=\"#100C08\" />\n",
       "<circle cx=\"127.5038105676658\" cy=\"-60.0\" r=\"1.6\" fill=\"#100C08\" />\n",
       "<text x=\"86.60254037844386\" y=\"147.0\" font-size=\"23.5\" font-family=\"Open Sans\" fill=\"#100C08\" font-weight=\"bold\" text-anchor=\"middle\" dy=\"0.4em\">10</text>\n",
       "<circle cx=\"86.60254037844386\" cy=\"165.0\" r=\"1.6\" fill=\"#100C08\" />\n",
       "<circle cx=\"91.40254037844386\" cy=\"165.0\" r=\"1.6\" fill=\"#100C08\" />\n",
       "<circle cx=\"81.80254037844387\" cy=\"165.0\" r=\"1.6\" fill=\"#100C08\" />\n",
       "<text x=\"129.9038105676658\" y=\"72.0\" font-size=\"18.5\" font-family=\"Open Sans\" fill=\"#100C08\" font-weight=\"bold\" text-anchor=\"middle\" dy=\"0.4em\">2</text>\n",
       "<circle cx=\"129.9038105676658\" cy=\"90.0\" r=\"1.6\" fill=\"#100C08\" />\n",
       "<text x=\"173.20508075688772\" y=\"-3.0\" font-size=\"21.0\" font-family=\"Open Sans\" fill=\"#100C08\" font-weight=\"bold\" text-anchor=\"middle\" dy=\"0.4em\">3</text>\n",
       "<circle cx=\"175.60508075688773\" cy=\"15.0\" r=\"1.6\" fill=\"#100C08\" />\n",
       "<circle cx=\"170.80508075688772\" cy=\"15.0\" r=\"1.6\" fill=\"#100C08\" />\n",
       "<circle cx=\"43.30127018922194\" cy=\"-225.0\" r=\"13\" fill=\"#FFEDD0\" fill-opacity=\"1\" stroke=\"#A86B32\" stroke-width=\"4\" />\n",
       "<circle cx=\"-129.9038105676658\" cy=\"-225.0\" r=\"13\" fill=\"#FFEDD0\" fill-opacity=\"1\" stroke=\"#2A1B0D\" stroke-width=\"4\" />\n",
       "<circle cx=\"-216.50635094610965\" cy=\"-75.0\" r=\"13\" fill=\"#FFEDD0\" fill-opacity=\"1\" stroke=\"#2A1B0D\" stroke-width=\"4\" />\n",
       "<circle cx=\"-216.50635094610965\" cy=\"75.0\" r=\"13\" fill=\"#FFEDD0\" fill-opacity=\"1\" stroke=\"#93B93C\" stroke-width=\"4\" />\n",
       "<circle cx=\"-129.9038105676658\" cy=\"224.99999999999997\" r=\"13\" fill=\"#FFEDD0\" fill-opacity=\"1\" stroke=\"#2A1B0D\" stroke-width=\"4\" />\n",
       "<circle cx=\"43.301270189221924\" cy=\"225.0\" r=\"13\" fill=\"#FFEDD0\" fill-opacity=\"1\" stroke=\"#969696\" stroke-width=\"4\" />\n",
       "<circle cx=\"173.20508075688772\" cy=\"150.0\" r=\"13\" fill=\"#FFEDD0\" fill-opacity=\"1\" stroke=\"#D9A82E\" stroke-width=\"4\" />\n",
       "<circle cx=\"259.8076211353316\" cy=\"7.105427357601002e-15\" r=\"13\" fill=\"#FFEDD0\" fill-opacity=\"1\" stroke=\"#2A1B0D\" stroke-width=\"4\" />\n",
       "<circle cx=\"173.20508075688775\" cy=\"-150.0\" r=\"13\" fill=\"#FFEDD0\" fill-opacity=\"1\" stroke=\"#1B5F34\" stroke-width=\"4\" />\n",
       "<text x=\"43.30127018922194\" y=\"-225.0\" font-size=\"12\" fill=\"#A86B32\" font-family=\"Open Sans\" font-weight=\"bold\" text-anchor=\"middle\" dy=\"0.4em\">2:1</text>\n",
       "<text x=\"-129.9038105676658\" y=\"-225.0\" font-size=\"12\" fill=\"#2A1B0D\" font-family=\"Open Sans\" font-weight=\"bold\" text-anchor=\"middle\" dy=\"0.4em\">2:1</text>\n",
       "<text x=\"-216.50635094610965\" y=\"-75.0\" font-size=\"12\" fill=\"#2A1B0D\" font-family=\"Open Sans\" font-weight=\"bold\" text-anchor=\"middle\" dy=\"0.4em\">2:1</text>\n",
       "<text x=\"-216.50635094610965\" y=\"75.0\" font-size=\"12\" fill=\"#93B93C\" font-family=\"Open Sans\" font-weight=\"bold\" text-anchor=\"middle\" dy=\"0.4em\">2:1</text>\n",
       "<text x=\"-129.9038105676658\" y=\"224.99999999999997\" font-size=\"12\" fill=\"#2A1B0D\" font-family=\"Open Sans\" font-weight=\"bold\" text-anchor=\"middle\" dy=\"0.4em\">2:1</text>\n",
       "<text x=\"43.301270189221924\" y=\"225.0\" font-size=\"12\" fill=\"#969696\" font-family=\"Open Sans\" font-weight=\"bold\" text-anchor=\"middle\" dy=\"0.4em\">2:1</text>\n",
       "<text x=\"173.20508075688772\" y=\"150.0\" font-size=\"12\" fill=\"#D9A82E\" font-family=\"Open Sans\" font-weight=\"bold\" text-anchor=\"middle\" dy=\"0.4em\">2:1</text>\n",
       "<text x=\"259.8076211353316\" y=\"7.105427357601002e-15\" font-size=\"12\" fill=\"#2A1B0D\" font-family=\"Open Sans\" font-weight=\"bold\" text-anchor=\"middle\" dy=\"0.4em\">2:1</text>\n",
       "<text x=\"173.20508075688775\" y=\"-150.0\" font-size=\"12\" fill=\"#1B5F34\" font-family=\"Open Sans\" font-weight=\"bold\" text-anchor=\"middle\" dy=\"0.4em\">2:1</text>\n",
       "</svg>"
      ],
      "text/plain": [
       "<drawSvg.drawing.Drawing at 0x7f17346ab6d0>"
      ]
     },
     "execution_count": 16,
     "metadata": {},
     "output_type": "execute_result"
    }
   ],
   "source": [
    "d = init_canvas(width, height)\n",
    "draw_background(d)\n",
    "draw_board_outline(d, hex_grid)\n",
    "fill_board(d, hex_grid, board)\n",
    "draw_tokens(d, hex_grid, board, show_dots=True)\n",
    "draw_harbors(d, harbor_locations, board, simple=False)\n",
    "d.setPixelScale(1.2)\n",
    "d"
   ]
  },
  {
   "cell_type": "code",
   "execution_count": 17,
   "id": "fec280f1-2b8d-4043-842c-582ef53265e3",
   "metadata": {},
   "outputs": [
    {
     "data": {
      "image/svg+xml": [
       "<?xml version=\"1.0\" encoding=\"UTF-8\"?>\n",
       "<svg xmlns=\"http://www.w3.org/2000/svg\" xmlns:xlink=\"http://www.w3.org/1999/xlink\"\n",
       "     width=\"600\" height=\"600\" viewBox=\"-300.0 -300.0 600 600\">\n",
       "<defs>\n",
       "</defs>\n",
       "<path d=\"M-173.20508075688772,-50.0 L-216.50635094610965,-25.000000000000007 L-216.50635094610965,24.99999999999999 L-173.20508075688772,50.0 L-129.9038105676658,25.00000000000002 L-129.90381056766577,-24.999999999999968 Z\" fill=\"#FFFFFF\" stroke=\"#100C08\" stroke-width=\"3\" coords=\"(-2, 0)\" />\n",
       "<path d=\"M-129.9038105676658,-125.0 L-173.20508075688772,-100.0 L-173.20508075688775,-50.000000000000014 L-129.9038105676658,-25.0 L-86.60254037844388,-49.99999999999998 L-86.60254037844385,-99.99999999999997 Z\" fill=\"#FFFFFF\" stroke=\"#100C08\" stroke-width=\"3\" coords=\"(-2, 1)\" />\n",
       "<path d=\"M-86.60254037844386,-200.0 L-129.9038105676658,-175.0 L-129.9038105676658,-125.00000000000001 L-86.60254037844386,-100.0 L-43.301270189221945,-124.99999999999997 L-43.30127018922191,-174.99999999999997 Z\" fill=\"#FFFFFF\" stroke=\"#100C08\" stroke-width=\"3\" coords=\"(-2, 2)\" />\n",
       "<path d=\"M-129.9038105676658,25.0 L-173.20508075688772,49.99999999999999 L-173.20508075688775,99.99999999999999 L-129.9038105676658,125.0 L-86.60254037844388,100.00000000000003 L-86.60254037844385,50.00000000000003 Z\" fill=\"#FFFFFF\" stroke=\"#100C08\" stroke-width=\"3\" coords=\"(-1, -1)\" />\n",
       "<path d=\"M-86.60254037844386,-50.0 L-129.9038105676658,-25.000000000000007 L-129.9038105676658,24.99999999999999 L-86.60254037844386,50.0 L-43.301270189221945,25.00000000000002 L-43.30127018922191,-24.999999999999968 Z\" fill=\"#FFFFFF\" stroke=\"#100C08\" stroke-width=\"3\" coords=\"(-1, 0)\" />\n",
       "<path d=\"M-43.30127018922193,-125.0 L-86.60254037844386,-100.0 L-86.60254037844388,-50.000000000000014 L-43.30127018922194,-25.0 L-1.4210854715202004e-14,-49.99999999999998 L2.1316282072803006e-14,-99.99999999999997 Z\" fill=\"#FFFFFF\" stroke=\"#100C08\" stroke-width=\"3\" coords=\"(-1, 1)\" />\n",
       "<path d=\"M0.0,-200.0 L-43.30127018922193,-175.0 L-43.30127018922194,-125.00000000000001 L-6.123233995736766e-15,-100.0 L43.30127018922192,-124.99999999999997 L43.30127018922195,-174.99999999999997 Z\" fill=\"#FFFFFF\" stroke=\"#100C08\" stroke-width=\"3\" coords=\"(-1, 2)\" />\n",
       "<path d=\"M-86.60254037844386,100.0 L-129.9038105676658,125.0 L-129.9038105676658,175.0 L-86.60254037844386,200.0 L-43.301270189221945,175.00000000000003 L-43.30127018922191,125.00000000000003 Z\" fill=\"#FFFFFF\" stroke=\"#100C08\" stroke-width=\"3\" coords=\"(0, -2)\" />\n",
       "<path d=\"M-43.30127018922193,25.0 L-86.60254037844386,49.99999999999999 L-86.60254037844388,99.99999999999999 L-43.30127018922194,125.0 L-1.4210854715202004e-14,100.00000000000003 L2.1316282072803006e-14,50.00000000000003 Z\" fill=\"#FFFFFF\" stroke=\"#100C08\" stroke-width=\"3\" coords=\"(0, -1)\" />\n",
       "<path d=\"M0.0,-50.0 L-43.30127018922193,-25.000000000000007 L-43.30127018922194,24.99999999999999 L-6.123233995736766e-15,50.0 L43.30127018922192,25.00000000000002 L43.30127018922195,-24.999999999999968 Z\" fill=\"#FFFFFF\" stroke=\"#100C08\" stroke-width=\"3\" coords=\"(0, 0)\" />\n",
       "<path d=\"M43.30127018922193,-125.0 L0.0,-100.0 L-7.105427357601002e-15,-50.000000000000014 L43.301270189221924,-25.0 L86.60254037844385,-49.99999999999998 L86.60254037844388,-99.99999999999997 Z\" fill=\"#FFFFFF\" stroke=\"#100C08\" stroke-width=\"3\" coords=\"(0, 1)\" />\n",
       "<path d=\"M86.60254037844386,-200.0 L43.30127018922193,-175.0 L43.301270189221924,-125.00000000000001 L86.60254037844386,-100.0 L129.90381056766577,-124.99999999999997 L129.9038105676658,-174.99999999999997 Z\" fill=\"#FFFFFF\" stroke=\"#100C08\" stroke-width=\"3\" coords=\"(0, 2)\" />\n",
       "<path d=\"M0.0,100.0 L-43.30127018922193,125.0 L-43.30127018922194,175.0 L-6.123233995736766e-15,200.0 L43.30127018922192,175.00000000000003 L43.30127018922195,125.00000000000003 Z\" fill=\"#FFFFFF\" stroke=\"#100C08\" stroke-width=\"3\" coords=\"(1, -2)\" />\n",
       "<path d=\"M43.30127018922193,25.0 L0.0,49.99999999999999 L-7.105427357601002e-15,99.99999999999999 L43.301270189221924,125.0 L86.60254037844385,100.00000000000003 L86.60254037844388,50.00000000000003 Z\" fill=\"#FFFFFF\" stroke=\"#100C08\" stroke-width=\"3\" coords=\"(1, -1)\" />\n",
       "<path d=\"M86.60254037844386,-50.0 L43.30127018922193,-25.000000000000007 L43.301270189221924,24.99999999999999 L86.60254037844386,50.0 L129.90381056766577,25.00000000000002 L129.9038105676658,-24.999999999999968 Z\" fill=\"#FFFFFF\" stroke=\"#100C08\" stroke-width=\"3\" coords=\"(1, 0)\" />\n",
       "<path d=\"M129.9038105676658,-125.0 L86.60254037844388,-100.0 L86.60254037844386,-50.000000000000014 L129.9038105676658,-25.0 L173.20508075688772,-49.99999999999998 L173.20508075688775,-99.99999999999997 Z\" fill=\"#FFFFFF\" stroke=\"#100C08\" stroke-width=\"3\" coords=\"(1, 1)\" />\n",
       "<path d=\"M86.60254037844386,100.0 L43.30127018922193,125.0 L43.301270189221924,175.0 L86.60254037844386,200.0 L129.90381056766577,175.00000000000003 L129.9038105676658,125.00000000000003 Z\" fill=\"#FFFFFF\" stroke=\"#100C08\" stroke-width=\"3\" coords=\"(2, -2)\" />\n",
       "<path d=\"M129.9038105676658,25.0 L86.60254037844388,49.99999999999999 L86.60254037844386,99.99999999999999 L129.9038105676658,125.0 L173.20508075688772,100.00000000000003 L173.20508075688775,50.00000000000003 Z\" fill=\"#FFFFFF\" stroke=\"#100C08\" stroke-width=\"3\" coords=\"(2, -1)\" />\n",
       "<path d=\"M173.20508075688772,-50.0 L129.9038105676658,-25.000000000000007 L129.9038105676658,24.99999999999999 L173.20508075688772,50.0 L216.50635094610965,25.00000000000002 L216.50635094610968,-24.999999999999968 Z\" fill=\"#FFFFFF\" stroke=\"#100C08\" stroke-width=\"3\" coords=\"(2, 0)\" />\n",
       "<text x=\"-173.20508075688772\" y=\"-0.0\" font-size=\"18\" font-family=\"Open Sans\" fill=\"black\" text-anchor=\"middle\" dy=\"0.4em\">(-2, 0, 2)</text>\n",
       "<text x=\"-129.9038105676658\" y=\"-75.0\" font-size=\"18\" font-family=\"Open Sans\" fill=\"black\" text-anchor=\"middle\" dy=\"0.4em\">(-2, 1, 1)</text>\n",
       "<text x=\"-86.60254037844386\" y=\"-150.0\" font-size=\"18\" font-family=\"Open Sans\" fill=\"black\" text-anchor=\"middle\" dy=\"0.4em\">(-2, 2, 0)</text>\n",
       "<text x=\"-129.9038105676658\" y=\"75.0\" font-size=\"18\" font-family=\"Open Sans\" fill=\"black\" text-anchor=\"middle\" dy=\"0.4em\">(-1, -1, 2)</text>\n",
       "<text x=\"-86.60254037844386\" y=\"-0.0\" font-size=\"18\" font-family=\"Open Sans\" fill=\"black\" text-anchor=\"middle\" dy=\"0.4em\">(-1, 0, 1)</text>\n",
       "<text x=\"-43.30127018922193\" y=\"-75.0\" font-size=\"18\" font-family=\"Open Sans\" fill=\"black\" text-anchor=\"middle\" dy=\"0.4em\">(-1, 1, 0)</text>\n",
       "<text x=\"0.0\" y=\"-150.0\" font-size=\"18\" font-family=\"Open Sans\" fill=\"black\" text-anchor=\"middle\" dy=\"0.4em\">(-1, 2, -1)</text>\n",
       "<text x=\"-86.60254037844386\" y=\"150.0\" font-size=\"18\" font-family=\"Open Sans\" fill=\"black\" text-anchor=\"middle\" dy=\"0.4em\">(0, -2, 2)</text>\n",
       "<text x=\"-43.30127018922193\" y=\"75.0\" font-size=\"18\" font-family=\"Open Sans\" fill=\"black\" text-anchor=\"middle\" dy=\"0.4em\">(0, -1, 1)</text>\n",
       "<text x=\"0.0\" y=\"-0.0\" font-size=\"18\" font-family=\"Open Sans\" fill=\"black\" text-anchor=\"middle\" dy=\"0.4em\">(0, 0, 0)</text>\n",
       "<text x=\"43.30127018922193\" y=\"-75.0\" font-size=\"18\" font-family=\"Open Sans\" fill=\"black\" text-anchor=\"middle\" dy=\"0.4em\">(0, 1, -1)</text>\n",
       "<text x=\"86.60254037844386\" y=\"-150.0\" font-size=\"18\" font-family=\"Open Sans\" fill=\"black\" text-anchor=\"middle\" dy=\"0.4em\">(0, 2, -2)</text>\n",
       "<text x=\"0.0\" y=\"150.0\" font-size=\"18\" font-family=\"Open Sans\" fill=\"black\" text-anchor=\"middle\" dy=\"0.4em\">(1, -2, 1)</text>\n",
       "<text x=\"43.30127018922193\" y=\"75.0\" font-size=\"18\" font-family=\"Open Sans\" fill=\"black\" text-anchor=\"middle\" dy=\"0.4em\">(1, -1, 0)</text>\n",
       "<text x=\"86.60254037844386\" y=\"-0.0\" font-size=\"18\" font-family=\"Open Sans\" fill=\"black\" text-anchor=\"middle\" dy=\"0.4em\">(1, 0, -1)</text>\n",
       "<text x=\"129.9038105676658\" y=\"-75.0\" font-size=\"18\" font-family=\"Open Sans\" fill=\"black\" text-anchor=\"middle\" dy=\"0.4em\">(1, 1, -2)</text>\n",
       "<text x=\"86.60254037844386\" y=\"150.0\" font-size=\"18\" font-family=\"Open Sans\" fill=\"black\" text-anchor=\"middle\" dy=\"0.4em\">(2, -2, 0)</text>\n",
       "<text x=\"129.9038105676658\" y=\"75.0\" font-size=\"18\" font-family=\"Open Sans\" fill=\"black\" text-anchor=\"middle\" dy=\"0.4em\">(2, -1, -1)</text>\n",
       "<text x=\"173.20508075688772\" y=\"-0.0\" font-size=\"18\" font-family=\"Open Sans\" fill=\"black\" text-anchor=\"middle\" dy=\"0.4em\">(2, 0, -2)</text>\n",
       "</svg>"
      ],
      "text/plain": [
       "<drawSvg.drawing.Drawing at 0x7f173a2e5ee0>"
      ]
     },
     "execution_count": 17,
     "metadata": {},
     "output_type": "execute_result"
    }
   ],
   "source": [
    "d = init_canvas(width, height)\n",
    "draw_board_outline(d, hex_grid)\n",
    "draw_coords(d, hex_grid)\n",
    "d"
   ]
  },
  {
   "cell_type": "markdown",
   "id": "fc6206de-8d74-4593-a322-876859dd0afb",
   "metadata": {},
   "source": [
    "## Metrics (new)"
   ]
  },
  {
   "cell_type": "markdown",
   "id": "307aff22-cb86-46e4-a409-ee6345360c3f",
   "metadata": {},
   "source": [
    "1. Resource distribution (global)\n",
    "2. Resource clustering (local)\n",
    "3. Probability distribution (global)\n",
    "4. Number clustering (local)\n",
    "5. Probability distribution per resource type (global?)\n",
    "6. Harbor placement (by resource type)? (local?)"
   ]
  },
  {
   "cell_type": "code",
   "execution_count": 18,
   "id": "3bfd0b9f-8356-45de-8248-0e1213249713",
   "metadata": {},
   "outputs": [],
   "source": [
    "def create_vertex_grid(hex_grid):\n",
    "    vertex_list = []\n",
    "    for hex_ in hex_grid:\n",
    "        vertices = get_vertices(hex_)\n",
    "        vertex_list += vertices\n",
    "    return np.unique(vertex_list, axis = 0)\n",
    "\n",
    "vertex_grid = create_vertex_grid(hex_grid)"
   ]
  },
  {
   "cell_type": "code",
   "execution_count": 19,
   "id": "6dfeecb2-0ebf-4f45-b2e7-fe06b98147cd",
   "metadata": {},
   "outputs": [],
   "source": [
    "def normalise(x):\n",
    "    x = np.asarray(x)\n",
    "    return (x - x.min()) / (np.ptp(x))"
   ]
  },
  {
   "cell_type": "markdown",
   "id": "07df14c1-704a-4224-9300-37c3f279698a",
   "metadata": {},
   "source": [
    "### 1. Resource distribution"
   ]
  },
  {
   "cell_type": "markdown",
   "id": "9ce93471-9b40-4b9c-82d3-6fa4251f60bb",
   "metadata": {},
   "source": [
    "Note that the board is symmetrical about the axes of the grid (q, r and s). Drawing a line along each axis divides the board in two. For each axis halving, consider the sum of the number of resoures produced per terrain type across all possible hex locations. Take the difference between the two halves and sum. Sum across all three axes. "
   ]
  },
  {
   "cell_type": "code",
   "execution_count": 20,
   "id": "9638ecee-6ba6-496e-9481-64bc3292cbee",
   "metadata": {},
   "outputs": [],
   "source": [
    "def calc_RSI_tile(board, hex_grid):\n",
    "    # Calculates the resource symmetry index, on a hex basis\n",
    "    squared_diffs = 0\n",
    "    hex_types = board[0]\n",
    "    for axis in range(3): # 0, 1 and 2 correspond to q, r and s respectively. \n",
    "        count = [0] * 6\n",
    "        for hex_coord, hex_index in hex_grid.items():\n",
    "            hex_type = hex_types[hex_index]\n",
    "            hex_coord = axial_to_cube(hex_coord)\n",
    "            if hex_coord[axis] < 0:\n",
    "                count[hex_type] -= 1\n",
    "            elif hex_coord[axis] > 0:\n",
    "                count[hex_type] += 1\n",
    "        # Don't include the desert hex\n",
    "        squared_diffs += sum([i**2 for i in count[1:]])\n",
    "    return squared_diffs"
   ]
  },
  {
   "cell_type": "code",
   "execution_count": 21,
   "id": "9167ec80-8abf-48f1-b84e-f98ea2daca3c",
   "metadata": {},
   "outputs": [
    {
     "data": {
      "text/plain": [
       "18"
      ]
     },
     "execution_count": 21,
     "metadata": {},
     "output_type": "execute_result"
    }
   ],
   "source": [
    "calc_RSI_tile(board, hex_grid)"
   ]
  },
  {
   "cell_type": "code",
   "execution_count": 22,
   "id": "ae5f44bd-d681-49ee-bb79-bc33cb430de9",
   "metadata": {},
   "outputs": [],
   "source": [
    "def axial_to_cube_vertex(vertex):\n",
    "    return [vertex[0], vertex[1], -(sum(vertex[:2])), vertex[2]]"
   ]
  },
  {
   "cell_type": "code",
   "execution_count": 23,
   "id": "52d96baa-2026-4d58-85ec-b553fb541973",
   "metadata": {},
   "outputs": [
    {
     "data": {
      "text/plain": [
       "720"
      ]
     },
     "execution_count": 23,
     "metadata": {},
     "output_type": "execute_result"
    }
   ],
   "source": [
    "# Resourced symmetry index\n",
    "def calc_RSI(board, vertex_grid, hex_grid):\n",
    "    counts = np.zeros((3,6), dtype = int)\n",
    "    hex_types = board[0]\n",
    "    \n",
    "    for vertex in vertex_grid:\n",
    "        hexes = vertex_to_hex_trip(vertex)\n",
    "        # Cube coordinates make it easier to loop over the axes\n",
    "        vertex = axial_to_cube_vertex(vertex) \n",
    "\n",
    "        for axis in range(3):\n",
    "            # Given the axis, determines whether or not the vertex is on the\n",
    "            # negative or positive side of the axis. \n",
    "            # TODO: Make this if-else chain simpler, or create function\n",
    "            if vertex[axis] != 0:\n",
    "                change = np.sign(vertex[axis])\n",
    "            else:\n",
    "                if (vertex[3] == 1 and axis == 1) or (vertex[3] == 0 and axis == 0) or (vertex[3] == 0 and axis == 2):\n",
    "                    change = 1\n",
    "                else:\n",
    "                    change = -1\n",
    "            for hex_ in hexes:\n",
    "                if tuple(hex_) in hex_grid:\n",
    "                    hex_index = hex_grid[tuple(hex_)] # TODO: Remove need for tuple\n",
    "                    hex_type = hex_types[hex_index] # TODO: Make getting hex type a function\n",
    "                    counts[axis][hex_type] += change\n",
    "    \n",
    "    return np.sum(counts**2)\n",
    "                \n",
    "            \n",
    "calc_RSI(board, vertex_grid, hex_grid)"
   ]
  },
  {
   "cell_type": "code",
   "execution_count": 42,
   "id": "def600cd-498c-4348-85da-72ce719c80c4",
   "metadata": {},
   "outputs": [],
   "source": [
    "RSI_scores = []\n",
    "for board in boards[:10000]:\n",
    "    RSI_scores.append(calc_RSI(board, vertex_grid, hex_grid))\n",
    "\n",
    "    \n",
    "RSI_scores_n = normalise(RSI_scores)"
   ]
  },
  {
   "cell_type": "code",
   "execution_count": 43,
   "id": "4dcbbd6f-1be5-43b8-8b94-f4ba4227663e",
   "metadata": {},
   "outputs": [
    {
     "data": {
      "text/plain": [
       "array([ 72, 216, 216, 288, 288, 288, 288, 288, 288, 288])"
      ]
     },
     "execution_count": 43,
     "metadata": {},
     "output_type": "execute_result"
    }
   ],
   "source": [
    "np.sort(RSI_scores)[:10]"
   ]
  },
  {
   "cell_type": "code",
   "execution_count": 44,
   "id": "6714831a-ba9b-4db2-ba5d-a5f29aa5044c",
   "metadata": {},
   "outputs": [
    {
     "data": {
      "text/plain": [
       "array([3796, 5562,  972,  901, 5089, 3371, 8744, 6577, 5649, 4234])"
      ]
     },
     "execution_count": 44,
     "metadata": {},
     "output_type": "execute_result"
    }
   ],
   "source": [
    "np.argsort(RSI_scores)[:10]"
   ]
  },
  {
   "cell_type": "code",
   "execution_count": 45,
   "id": "a053cd9f-ec56-4180-90f2-0f4b72b456e0",
   "metadata": {},
   "outputs": [],
   "source": [
    "top_board = np.argsort(RSI_scores)[0]"
   ]
  },
  {
   "cell_type": "code",
   "execution_count": 46,
   "id": "78c00cc4-fa38-4db7-a1c9-9cb2b5616277",
   "metadata": {},
   "outputs": [
    {
     "data": {
      "text/plain": [
       "array([[ 1,  4,  2,  3,  3,  5,  2,  1,  5,  0,  1,  4,  2,  2,  3,  3,\n",
       "         4,  5,  1],\n",
       "       [ 4, 11,  5,  9, 10,  3,  2,  9,  4,  0,  8, 10,  6,  8,  5, 11,\n",
       "        12,  6,  3],\n",
       "       [ 4,  1,  3,  0,  0,  0,  5,  0,  2, -1, -1, -1, -1, -1, -1, -1,\n",
       "        -1, -1, -1]])"
      ]
     },
     "execution_count": 46,
     "metadata": {},
     "output_type": "execute_result"
    }
   ],
   "source": [
    "boards[top_board]"
   ]
  },
  {
   "cell_type": "code",
   "execution_count": 47,
   "id": "57b83b0a-3524-4907-9c05-8c4d7e5f2364",
   "metadata": {},
   "outputs": [
    {
     "data": {
      "image/svg+xml": [
       "<?xml version=\"1.0\" encoding=\"UTF-8\"?>\n",
       "<svg xmlns=\"http://www.w3.org/2000/svg\" xmlns:xlink=\"http://www.w3.org/1999/xlink\"\n",
       "     width=\"720.0\" height=\"720.0\" viewBox=\"-300.0 -300.0 600 600\">\n",
       "<defs>\n",
       "</defs>\n",
       "<path d=\"M-144.99999999999997,-251.14736709748723 L-290.0,-4.263256414560601e-14 L-145.00000000000006,251.14736709748718 L144.99999999999994,251.14736709748726 L290.0,1.8474111129762605e-13 L145.00000000000023,-251.1473670974871 Z\" fill=\"#B9E3F3\" stroke=\"#100C08\" stroke-width=\"3\" />\n",
       "<path d=\"M-173.20508075688772,-50.0 L-216.50635094610965,-25.000000000000007 L-216.50635094610965,24.99999999999999 L-173.20508075688772,50.0 L-129.9038105676658,25.00000000000002 L-129.90381056766577,-24.999999999999968 Z\" fill=\"#DFB853\" stroke=\"#100C08\" stroke-width=\"3\" coords=\"(-2, 0)\" />\n",
       "<path d=\"M-129.9038105676658,-125.0 L-173.20508075688772,-100.0 L-173.20508075688775,-50.000000000000014 L-129.9038105676658,-25.0 L-86.60254037844388,-49.99999999999998 L-86.60254037844385,-99.99999999999997 Z\" fill=\"#C37C3A\" stroke=\"#100C08\" stroke-width=\"3\" coords=\"(-2, 1)\" />\n",
       "<path d=\"M-86.60254037844386,-200.0 L-129.9038105676658,-175.0 L-129.9038105676658,-125.00000000000001 L-86.60254037844386,-100.0 L-43.301270189221945,-124.99999999999997 L-43.30127018922191,-174.99999999999997 Z\" fill=\"#20703D\" stroke=\"#100C08\" stroke-width=\"3\" coords=\"(-2, 2)\" />\n",
       "<path d=\"M-129.9038105676658,25.0 L-173.20508075688772,49.99999999999999 L-173.20508075688775,99.99999999999999 L-129.9038105676658,125.0 L-86.60254037844388,100.00000000000003 L-86.60254037844385,50.00000000000003 Z\" fill=\"#A7C957\" stroke=\"#100C08\" stroke-width=\"3\" coords=\"(-1, -1)\" />\n",
       "<path d=\"M-86.60254037844386,-50.0 L-129.9038105676658,-25.000000000000007 L-129.9038105676658,24.99999999999999 L-86.60254037844386,50.0 L-43.301270189221945,25.00000000000002 L-43.30127018922191,-24.999999999999968 Z\" fill=\"#A7C957\" stroke=\"#100C08\" stroke-width=\"3\" coords=\"(-1, 0)\" />\n",
       "<path d=\"M-43.30127018922193,-125.0 L-86.60254037844386,-100.0 L-86.60254037844388,-50.000000000000014 L-43.30127018922194,-25.0 L-1.4210854715202004e-14,-49.99999999999998 L2.1316282072803006e-14,-99.99999999999997 Z\" fill=\"#969696\" stroke=\"#100C08\" stroke-width=\"3\" coords=\"(-1, 1)\" />\n",
       "<path d=\"M0.0,-200.0 L-43.30127018922193,-175.0 L-43.30127018922194,-125.00000000000001 L-6.123233995736766e-15,-100.0 L43.30127018922192,-124.99999999999997 L43.30127018922195,-174.99999999999997 Z\" fill=\"#20703D\" stroke=\"#100C08\" stroke-width=\"3\" coords=\"(-1, 2)\" />\n",
       "<path d=\"M-86.60254037844386,100.0 L-129.9038105676658,125.0 L-129.9038105676658,175.0 L-86.60254037844386,200.0 L-43.301270189221945,175.00000000000003 L-43.30127018922191,125.00000000000003 Z\" fill=\"#DFB853\" stroke=\"#100C08\" stroke-width=\"3\" coords=\"(0, -2)\" />\n",
       "<path d=\"M-43.30127018922193,25.0 L-86.60254037844386,49.99999999999999 L-86.60254037844388,99.99999999999999 L-43.30127018922194,125.0 L-1.4210854715202004e-14,100.00000000000003 L2.1316282072803006e-14,50.00000000000003 Z\" fill=\"#969696\" stroke=\"#100C08\" stroke-width=\"3\" coords=\"(0, -1)\" />\n",
       "<path d=\"M0.0,-50.0 L-43.30127018922193,-25.000000000000007 L-43.30127018922194,24.99999999999999 L-6.123233995736766e-15,50.0 L43.30127018922192,25.00000000000002 L43.30127018922195,-24.999999999999968 Z\" fill=\"#DCBB96\" stroke=\"#100C08\" stroke-width=\"3\" coords=\"(0, 0)\" />\n",
       "<path d=\"M43.30127018922193,-125.0 L0.0,-100.0 L-7.105427357601002e-15,-50.000000000000014 L43.301270189221924,-25.0 L86.60254037844385,-49.99999999999998 L86.60254037844388,-99.99999999999997 Z\" fill=\"#DFB853\" stroke=\"#100C08\" stroke-width=\"3\" coords=\"(0, 1)\" />\n",
       "<path d=\"M86.60254037844386,-200.0 L43.30127018922193,-175.0 L43.301270189221924,-125.00000000000001 L86.60254037844386,-100.0 L129.90381056766577,-124.99999999999997 L129.9038105676658,-174.99999999999997 Z\" fill=\"#C37C3A\" stroke=\"#100C08\" stroke-width=\"3\" coords=\"(0, 2)\" />\n",
       "<path d=\"M0.0,100.0 L-43.30127018922193,125.0 L-43.30127018922194,175.0 L-6.123233995736766e-15,200.0 L43.30127018922192,175.00000000000003 L43.30127018922195,125.00000000000003 Z\" fill=\"#20703D\" stroke=\"#100C08\" stroke-width=\"3\" coords=\"(1, -2)\" />\n",
       "<path d=\"M43.30127018922193,25.0 L0.0,49.99999999999999 L-7.105427357601002e-15,99.99999999999999 L43.301270189221924,125.0 L86.60254037844385,100.00000000000003 L86.60254037844388,50.00000000000003 Z\" fill=\"#20703D\" stroke=\"#100C08\" stroke-width=\"3\" coords=\"(1, -1)\" />\n",
       "<path d=\"M86.60254037844386,-50.0 L43.30127018922193,-25.000000000000007 L43.301270189221924,24.99999999999999 L86.60254037844386,50.0 L129.90381056766577,25.00000000000002 L129.9038105676658,-24.999999999999968 Z\" fill=\"#A7C957\" stroke=\"#100C08\" stroke-width=\"3\" coords=\"(1, 0)\" />\n",
       "<path d=\"M129.9038105676658,-125.0 L86.60254037844388,-100.0 L86.60254037844386,-50.000000000000014 L129.9038105676658,-25.0 L173.20508075688772,-49.99999999999998 L173.20508075688775,-99.99999999999997 Z\" fill=\"#A7C957\" stroke=\"#100C08\" stroke-width=\"3\" coords=\"(1, 1)\" />\n",
       "<path d=\"M86.60254037844386,100.0 L43.30127018922193,125.0 L43.301270189221924,175.0 L86.60254037844386,200.0 L129.90381056766577,175.00000000000003 L129.9038105676658,125.00000000000003 Z\" fill=\"#C37C3A\" stroke=\"#100C08\" stroke-width=\"3\" coords=\"(2, -2)\" />\n",
       "<path d=\"M129.9038105676658,25.0 L86.60254037844388,49.99999999999999 L86.60254037844386,99.99999999999999 L129.9038105676658,125.0 L173.20508075688772,100.00000000000003 L173.20508075688775,50.00000000000003 Z\" fill=\"#969696\" stroke=\"#100C08\" stroke-width=\"3\" coords=\"(2, -1)\" />\n",
       "<path d=\"M173.20508075688772,-50.0 L129.9038105676658,-25.000000000000007 L129.9038105676658,24.99999999999999 L173.20508075688772,50.0 L216.50635094610965,25.00000000000002 L216.50635094610968,-24.999999999999968 Z\" fill=\"#DFB853\" stroke=\"#100C08\" stroke-width=\"3\" coords=\"(2, 0)\" />\n",
       "<path d=\"M43.30127018922193,-175.0 L43.30127018922194,-225.0\" stroke=\"black\" stroke-width=\"3\" stroke-opacity=\"0.5\" />\n",
       "<path d=\"M7.105427357601002e-15,-200.0 L43.30127018922194,-225.0\" stroke=\"black\" stroke-width=\"3\" stroke-opacity=\"0.5\" />\n",
       "<path d=\"M-86.60254037844385,-200.0 L-129.9038105676658,-225.0\" stroke=\"black\" stroke-width=\"3\" stroke-opacity=\"0.5\" />\n",
       "<path d=\"M-129.9038105676658,-175.0 L-129.9038105676658,-225.0\" stroke=\"black\" stroke-width=\"3\" stroke-opacity=\"0.5\" />\n",
       "<path d=\"M-173.20508075688772,-100.0 L-216.50635094610965,-75.0\" stroke=\"black\" stroke-width=\"3\" stroke-opacity=\"0.5\" />\n",
       "<path d=\"M-173.20508075688772,-50.0 L-216.50635094610965,-75.0\" stroke=\"black\" stroke-width=\"3\" stroke-opacity=\"0.5\" />\n",
       "<path d=\"M-173.20508075688772,50.0 L-216.50635094610965,75.0\" stroke=\"black\" stroke-width=\"3\" stroke-opacity=\"0.5\" />\n",
       "<path d=\"M-173.20508075688772,100.0 L-216.50635094610965,75.0\" stroke=\"black\" stroke-width=\"3\" stroke-opacity=\"0.5\" />\n",
       "<path d=\"M-129.90381056766577,175.0 L-129.9038105676658,224.99999999999997\" stroke=\"black\" stroke-width=\"3\" stroke-opacity=\"0.5\" />\n",
       "<path d=\"M-86.60254037844386,200.0 L-129.9038105676658,224.99999999999997\" stroke=\"black\" stroke-width=\"3\" stroke-opacity=\"0.5\" />\n",
       "<path d=\"M-7.105427357601002e-15,200.0 L43.301270189221924,225.0\" stroke=\"black\" stroke-width=\"3\" stroke-opacity=\"0.5\" />\n",
       "<path d=\"M43.301270189221924,175.0 L43.301270189221924,225.0\" stroke=\"black\" stroke-width=\"3\" stroke-opacity=\"0.5\" />\n",
       "<path d=\"M129.9038105676658,125.0 L173.20508075688772,150.0\" stroke=\"black\" stroke-width=\"3\" stroke-opacity=\"0.5\" />\n",
       "<path d=\"M173.20508075688772,100.0 L173.20508075688772,150.0\" stroke=\"black\" stroke-width=\"3\" stroke-opacity=\"0.5\" />\n",
       "<path d=\"M216.50635094610968,25.0 L259.8076211353316,7.105427357601002e-15\" stroke=\"black\" stroke-width=\"3\" stroke-opacity=\"0.5\" />\n",
       "<path d=\"M216.50635094610968,-25.0 L259.8076211353316,7.105427357601002e-15\" stroke=\"black\" stroke-width=\"3\" stroke-opacity=\"0.5\" />\n",
       "<path d=\"M173.20508075688772,-100.0 L173.20508075688775,-150.0\" stroke=\"black\" stroke-width=\"3\" stroke-opacity=\"0.5\" />\n",
       "<path d=\"M129.9038105676658,-125.0 L173.20508075688775,-150.0\" stroke=\"black\" stroke-width=\"3\" stroke-opacity=\"0.5\" />\n",
       "<circle cx=\"-173.20508075688772\" cy=\"-0.0\" r=\"25\" fill=\"#FFEDD0\" />\n",
       "<circle cx=\"-129.9038105676658\" cy=\"-75.0\" r=\"25\" fill=\"#FFEDD0\" />\n",
       "<circle cx=\"-86.60254037844386\" cy=\"-150.0\" r=\"25\" fill=\"#FFEDD0\" />\n",
       "<circle cx=\"-129.9038105676658\" cy=\"75.0\" r=\"25\" fill=\"#FFEDD0\" />\n",
       "<circle cx=\"-86.60254037844386\" cy=\"-0.0\" r=\"25\" fill=\"#FFEDD0\" />\n",
       "<circle cx=\"-43.30127018922193\" cy=\"-75.0\" r=\"25\" fill=\"#FFEDD0\" />\n",
       "<circle cx=\"0.0\" cy=\"-150.0\" r=\"25\" fill=\"#FFEDD0\" />\n",
       "<circle cx=\"-86.60254037844386\" cy=\"150.0\" r=\"25\" fill=\"#FFEDD0\" />\n",
       "<circle cx=\"-43.30127018922193\" cy=\"75.0\" r=\"25\" fill=\"#FFEDD0\" />\n",
       "<circle cx=\"43.30127018922193\" cy=\"-75.0\" r=\"25\" fill=\"#FFEDD0\" />\n",
       "<circle cx=\"86.60254037844386\" cy=\"-150.0\" r=\"25\" fill=\"#FFEDD0\" />\n",
       "<circle cx=\"0.0\" cy=\"150.0\" r=\"25\" fill=\"#FFEDD0\" />\n",
       "<circle cx=\"43.30127018922193\" cy=\"75.0\" r=\"25\" fill=\"#FFEDD0\" />\n",
       "<circle cx=\"86.60254037844386\" cy=\"-0.0\" r=\"25\" fill=\"#FFEDD0\" />\n",
       "<circle cx=\"129.9038105676658\" cy=\"-75.0\" r=\"25\" fill=\"#FFEDD0\" />\n",
       "<circle cx=\"86.60254037844386\" cy=\"150.0\" r=\"25\" fill=\"#FFEDD0\" />\n",
       "<circle cx=\"129.9038105676658\" cy=\"75.0\" r=\"25\" fill=\"#FFEDD0\" />\n",
       "<circle cx=\"173.20508075688772\" cy=\"-0.0\" r=\"25\" fill=\"#FFEDD0\" />\n",
       "<text x=\"-173.20508075688772\" y=\"-3.0\" font-size=\"23.5\" font-family=\"Open Sans\" fill=\"#100C08\" font-weight=\"bold\" text-anchor=\"middle\" dy=\"0.4em\">4</text>\n",
       "<circle cx=\"-173.20508075688772\" cy=\"15.0\" r=\"1.6\" fill=\"#100C08\" />\n",
       "<circle cx=\"-168.4050807568877\" cy=\"15.0\" r=\"1.6\" fill=\"#100C08\" />\n",
       "<circle cx=\"-178.00508075688774\" cy=\"15.0\" r=\"1.6\" fill=\"#100C08\" />\n",
       "<text x=\"-129.9038105676658\" y=\"-78.0\" font-size=\"21.0\" font-family=\"Open Sans\" fill=\"#100C08\" font-weight=\"bold\" text-anchor=\"middle\" dy=\"0.4em\">11</text>\n",
       "<circle cx=\"-127.5038105676658\" cy=\"-60.0\" r=\"1.6\" fill=\"#100C08\" />\n",
       "<circle cx=\"-132.3038105676658\" cy=\"-60.0\" r=\"1.6\" fill=\"#100C08\" />\n",
       "<text x=\"-86.60254037844386\" y=\"-153.0\" font-size=\"26.0\" font-family=\"Open Sans\" fill=\"#100C08\" font-weight=\"bold\" text-anchor=\"middle\" dy=\"0.4em\">5</text>\n",
       "<circle cx=\"-84.20254037844386\" cy=\"-135.0\" r=\"1.6\" fill=\"#100C08\" />\n",
       "<circle cx=\"-89.00254037844387\" cy=\"-135.0\" r=\"1.6\" fill=\"#100C08\" />\n",
       "<circle cx=\"-79.40254037844386\" cy=\"-135.0\" r=\"1.6\" fill=\"#100C08\" />\n",
       "<circle cx=\"-93.80254037844387\" cy=\"-135.0\" r=\"1.6\" fill=\"#100C08\" />\n",
       "<text x=\"-129.9038105676658\" y=\"72.0\" font-size=\"26.0\" font-family=\"Open Sans\" fill=\"#100C08\" font-weight=\"bold\" text-anchor=\"middle\" dy=\"0.4em\">9</text>\n",
       "<circle cx=\"-127.5038105676658\" cy=\"90.0\" r=\"1.6\" fill=\"#100C08\" />\n",
       "<circle cx=\"-132.3038105676658\" cy=\"90.0\" r=\"1.6\" fill=\"#100C08\" />\n",
       "<circle cx=\"-122.7038105676658\" cy=\"90.0\" r=\"1.6\" fill=\"#100C08\" />\n",
       "<circle cx=\"-137.1038105676658\" cy=\"90.0\" r=\"1.6\" fill=\"#100C08\" />\n",
       "<text x=\"-86.60254037844386\" y=\"-3.0\" font-size=\"23.5\" font-family=\"Open Sans\" fill=\"#100C08\" font-weight=\"bold\" text-anchor=\"middle\" dy=\"0.4em\">10</text>\n",
       "<circle cx=\"-86.60254037844386\" cy=\"15.0\" r=\"1.6\" fill=\"#100C08\" />\n",
       "<circle cx=\"-81.80254037844387\" cy=\"15.0\" r=\"1.6\" fill=\"#100C08\" />\n",
       "<circle cx=\"-91.40254037844386\" cy=\"15.0\" r=\"1.6\" fill=\"#100C08\" />\n",
       "<text x=\"-43.30127018922193\" y=\"-78.0\" font-size=\"21.0\" font-family=\"Open Sans\" fill=\"#100C08\" font-weight=\"bold\" text-anchor=\"middle\" dy=\"0.4em\">3</text>\n",
       "<circle cx=\"-40.90127018922193\" cy=\"-60.0\" r=\"1.6\" fill=\"#100C08\" />\n",
       "<circle cx=\"-45.70127018922193\" cy=\"-60.0\" r=\"1.6\" fill=\"#100C08\" />\n",
       "<text x=\"0.0\" y=\"-153.0\" font-size=\"18.5\" font-family=\"Open Sans\" fill=\"#100C08\" font-weight=\"bold\" text-anchor=\"middle\" dy=\"0.4em\">2</text>\n",
       "<circle cx=\"0.0\" cy=\"-135.0\" r=\"1.6\" fill=\"#100C08\" />\n",
       "<text x=\"-86.60254037844386\" y=\"147.0\" font-size=\"26.0\" font-family=\"Open Sans\" fill=\"#100C08\" font-weight=\"bold\" text-anchor=\"middle\" dy=\"0.4em\">9</text>\n",
       "<circle cx=\"-84.20254037844386\" cy=\"165.0\" r=\"1.6\" fill=\"#100C08\" />\n",
       "<circle cx=\"-89.00254037844387\" cy=\"165.0\" r=\"1.6\" fill=\"#100C08\" />\n",
       "<circle cx=\"-79.40254037844386\" cy=\"165.0\" r=\"1.6\" fill=\"#100C08\" />\n",
       "<circle cx=\"-93.80254037844387\" cy=\"165.0\" r=\"1.6\" fill=\"#100C08\" />\n",
       "<text x=\"-43.30127018922193\" y=\"72.0\" font-size=\"23.5\" font-family=\"Open Sans\" fill=\"#100C08\" font-weight=\"bold\" text-anchor=\"middle\" dy=\"0.4em\">4</text>\n",
       "<circle cx=\"-43.30127018922193\" cy=\"90.0\" r=\"1.6\" fill=\"#100C08\" />\n",
       "<circle cx=\"-38.50127018922193\" cy=\"90.0\" r=\"1.6\" fill=\"#100C08\" />\n",
       "<circle cx=\"-48.101270189221935\" cy=\"90.0\" r=\"1.6\" fill=\"#100C08\" />\n",
       "<text x=\"43.30127018922193\" y=\"-78.0\" font-size=\"28.5\" font-family=\"Open Sans\" fill=\"#BD0000\" font-weight=\"bold\" text-anchor=\"middle\" dy=\"0.4em\">8</text>\n",
       "<circle cx=\"43.30127018922193\" cy=\"-60.0\" r=\"1.6\" fill=\"#BD0000\" />\n",
       "<circle cx=\"48.101270189221935\" cy=\"-60.0\" r=\"1.6\" fill=\"#BD0000\" />\n",
       "<circle cx=\"38.50127018922193\" cy=\"-60.0\" r=\"1.6\" fill=\"#BD0000\" />\n",
       "<circle cx=\"52.90127018922193\" cy=\"-60.0\" r=\"1.6\" fill=\"#BD0000\" />\n",
       "<circle cx=\"33.70127018922193\" cy=\"-60.0\" r=\"1.6\" fill=\"#BD0000\" />\n",
       "<text x=\"86.60254037844386\" y=\"-153.0\" font-size=\"23.5\" font-family=\"Open Sans\" fill=\"#100C08\" font-weight=\"bold\" text-anchor=\"middle\" dy=\"0.4em\">10</text>\n",
       "<circle cx=\"86.60254037844386\" cy=\"-135.0\" r=\"1.6\" fill=\"#100C08\" />\n",
       "<circle cx=\"91.40254037844386\" cy=\"-135.0\" r=\"1.6\" fill=\"#100C08\" />\n",
       "<circle cx=\"81.80254037844387\" cy=\"-135.0\" r=\"1.6\" fill=\"#100C08\" />\n",
       "<text x=\"0.0\" y=\"147.0\" font-size=\"28.5\" font-family=\"Open Sans\" fill=\"#BD0000\" font-weight=\"bold\" text-anchor=\"middle\" dy=\"0.4em\">6</text>\n",
       "<circle cx=\"0.0\" cy=\"165.0\" r=\"1.6\" fill=\"#BD0000\" />\n",
       "<circle cx=\"4.800000000000001\" cy=\"165.0\" r=\"1.6\" fill=\"#BD0000\" />\n",
       "<circle cx=\"-4.800000000000001\" cy=\"165.0\" r=\"1.6\" fill=\"#BD0000\" />\n",
       "<circle cx=\"9.600000000000001\" cy=\"165.0\" r=\"1.6\" fill=\"#BD0000\" />\n",
       "<circle cx=\"-9.600000000000001\" cy=\"165.0\" r=\"1.6\" fill=\"#BD0000\" />\n",
       "<text x=\"43.30127018922193\" y=\"72.0\" font-size=\"28.5\" font-family=\"Open Sans\" fill=\"#BD0000\" font-weight=\"bold\" text-anchor=\"middle\" dy=\"0.4em\">8</text>\n",
       "<circle cx=\"43.30127018922193\" cy=\"90.0\" r=\"1.6\" fill=\"#BD0000\" />\n",
       "<circle cx=\"48.101270189221935\" cy=\"90.0\" r=\"1.6\" fill=\"#BD0000\" />\n",
       "<circle cx=\"38.50127018922193\" cy=\"90.0\" r=\"1.6\" fill=\"#BD0000\" />\n",
       "<circle cx=\"52.90127018922193\" cy=\"90.0\" r=\"1.6\" fill=\"#BD0000\" />\n",
       "<circle cx=\"33.70127018922193\" cy=\"90.0\" r=\"1.6\" fill=\"#BD0000\" />\n",
       "<text x=\"86.60254037844386\" y=\"-3.0\" font-size=\"26.0\" font-family=\"Open Sans\" fill=\"#100C08\" font-weight=\"bold\" text-anchor=\"middle\" dy=\"0.4em\">5</text>\n",
       "<circle cx=\"89.00254037844387\" cy=\"15.0\" r=\"1.6\" fill=\"#100C08\" />\n",
       "<circle cx=\"84.20254037844386\" cy=\"15.0\" r=\"1.6\" fill=\"#100C08\" />\n",
       "<circle cx=\"93.80254037844387\" cy=\"15.0\" r=\"1.6\" fill=\"#100C08\" />\n",
       "<circle cx=\"79.40254037844386\" cy=\"15.0\" r=\"1.6\" fill=\"#100C08\" />\n",
       "<text x=\"129.9038105676658\" y=\"-78.0\" font-size=\"21.0\" font-family=\"Open Sans\" fill=\"#100C08\" font-weight=\"bold\" text-anchor=\"middle\" dy=\"0.4em\">11</text>\n",
       "<circle cx=\"132.3038105676658\" cy=\"-60.0\" r=\"1.6\" fill=\"#100C08\" />\n",
       "<circle cx=\"127.5038105676658\" cy=\"-60.0\" r=\"1.6\" fill=\"#100C08\" />\n",
       "<text x=\"86.60254037844386\" y=\"147.0\" font-size=\"18.5\" font-family=\"Open Sans\" fill=\"#100C08\" font-weight=\"bold\" text-anchor=\"middle\" dy=\"0.4em\">12</text>\n",
       "<circle cx=\"86.60254037844386\" cy=\"165.0\" r=\"1.6\" fill=\"#100C08\" />\n",
       "<text x=\"129.9038105676658\" y=\"72.0\" font-size=\"28.5\" font-family=\"Open Sans\" fill=\"#BD0000\" font-weight=\"bold\" text-anchor=\"middle\" dy=\"0.4em\">6</text>\n",
       "<circle cx=\"129.9038105676658\" cy=\"90.0\" r=\"1.6\" fill=\"#BD0000\" />\n",
       "<circle cx=\"134.7038105676658\" cy=\"90.0\" r=\"1.6\" fill=\"#BD0000\" />\n",
       "<circle cx=\"125.1038105676658\" cy=\"90.0\" r=\"1.6\" fill=\"#BD0000\" />\n",
       "<circle cx=\"139.5038105676658\" cy=\"90.0\" r=\"1.6\" fill=\"#BD0000\" />\n",
       "<circle cx=\"120.3038105676658\" cy=\"90.0\" r=\"1.6\" fill=\"#BD0000\" />\n",
       "<text x=\"173.20508075688772\" y=\"-3.0\" font-size=\"21.0\" font-family=\"Open Sans\" fill=\"#100C08\" font-weight=\"bold\" text-anchor=\"middle\" dy=\"0.4em\">3</text>\n",
       "<circle cx=\"175.60508075688773\" cy=\"15.0\" r=\"1.6\" fill=\"#100C08\" />\n",
       "<circle cx=\"170.80508075688772\" cy=\"15.0\" r=\"1.6\" fill=\"#100C08\" />\n",
       "<circle cx=\"43.30127018922194\" cy=\"-225.0\" r=\"13\" fill=\"#FFEDD0\" fill-opacity=\"1\" stroke=\"#A86B32\" stroke-width=\"4\" />\n",
       "<circle cx=\"-129.9038105676658\" cy=\"-225.0\" r=\"13\" fill=\"#FFEDD0\" fill-opacity=\"1\" stroke=\"#D9A82E\" stroke-width=\"4\" />\n",
       "<circle cx=\"-216.50635094610965\" cy=\"-75.0\" r=\"13\" fill=\"#FFEDD0\" fill-opacity=\"1\" stroke=\"#93B93C\" stroke-width=\"4\" />\n",
       "<circle cx=\"-216.50635094610965\" cy=\"75.0\" r=\"13\" fill=\"#FFEDD0\" fill-opacity=\"1\" stroke=\"#2A1B0D\" stroke-width=\"4\" />\n",
       "<circle cx=\"-129.9038105676658\" cy=\"224.99999999999997\" r=\"13\" fill=\"#FFEDD0\" fill-opacity=\"1\" stroke=\"#2A1B0D\" stroke-width=\"4\" />\n",
       "<circle cx=\"43.301270189221924\" cy=\"225.0\" r=\"13\" fill=\"#FFEDD0\" fill-opacity=\"1\" stroke=\"#2A1B0D\" stroke-width=\"4\" />\n",
       "<circle cx=\"173.20508075688772\" cy=\"150.0\" r=\"13\" fill=\"#FFEDD0\" fill-opacity=\"1\" stroke=\"#969696\" stroke-width=\"4\" />\n",
       "<circle cx=\"259.8076211353316\" cy=\"7.105427357601002e-15\" r=\"13\" fill=\"#FFEDD0\" fill-opacity=\"1\" stroke=\"#2A1B0D\" stroke-width=\"4\" />\n",
       "<circle cx=\"173.20508075688775\" cy=\"-150.0\" r=\"13\" fill=\"#FFEDD0\" fill-opacity=\"1\" stroke=\"#1B5F34\" stroke-width=\"4\" />\n",
       "<text x=\"43.30127018922194\" y=\"-225.0\" font-size=\"12\" fill=\"#A86B32\" font-family=\"Open Sans\" font-weight=\"bold\" text-anchor=\"middle\" dy=\"0.4em\">2:1</text>\n",
       "<text x=\"-129.9038105676658\" y=\"-225.0\" font-size=\"12\" fill=\"#D9A82E\" font-family=\"Open Sans\" font-weight=\"bold\" text-anchor=\"middle\" dy=\"0.4em\">2:1</text>\n",
       "<text x=\"-216.50635094610965\" y=\"-75.0\" font-size=\"12\" fill=\"#93B93C\" font-family=\"Open Sans\" font-weight=\"bold\" text-anchor=\"middle\" dy=\"0.4em\">2:1</text>\n",
       "<text x=\"-216.50635094610965\" y=\"75.0\" font-size=\"12\" fill=\"#2A1B0D\" font-family=\"Open Sans\" font-weight=\"bold\" text-anchor=\"middle\" dy=\"0.4em\">2:1</text>\n",
       "<text x=\"-129.9038105676658\" y=\"224.99999999999997\" font-size=\"12\" fill=\"#2A1B0D\" font-family=\"Open Sans\" font-weight=\"bold\" text-anchor=\"middle\" dy=\"0.4em\">2:1</text>\n",
       "<text x=\"43.301270189221924\" y=\"225.0\" font-size=\"12\" fill=\"#2A1B0D\" font-family=\"Open Sans\" font-weight=\"bold\" text-anchor=\"middle\" dy=\"0.4em\">2:1</text>\n",
       "<text x=\"173.20508075688772\" y=\"150.0\" font-size=\"12\" fill=\"#969696\" font-family=\"Open Sans\" font-weight=\"bold\" text-anchor=\"middle\" dy=\"0.4em\">2:1</text>\n",
       "<text x=\"259.8076211353316\" y=\"7.105427357601002e-15\" font-size=\"12\" fill=\"#2A1B0D\" font-family=\"Open Sans\" font-weight=\"bold\" text-anchor=\"middle\" dy=\"0.4em\">2:1</text>\n",
       "<text x=\"173.20508075688775\" y=\"-150.0\" font-size=\"12\" fill=\"#1B5F34\" font-family=\"Open Sans\" font-weight=\"bold\" text-anchor=\"middle\" dy=\"0.4em\">2:1</text>\n",
       "</svg>"
      ],
      "text/plain": [
       "<drawSvg.drawing.Drawing at 0x7f1734698430>"
      ]
     },
     "execution_count": 47,
     "metadata": {},
     "output_type": "execute_result"
    }
   ],
   "source": [
    "d = init_canvas(width, height)\n",
    "draw_background(d)\n",
    "draw_board_outline(d, hex_grid)\n",
    "fill_board(d, hex_grid, boards[top_board])\n",
    "draw_tokens(d, hex_grid, boards[top_board], show_dots=True)\n",
    "draw_harbors(d, harbor_locations, boards[top_board], simple=False)\n",
    "d.setPixelScale(1.2)\n",
    "d"
   ]
  },
  {
   "cell_type": "markdown",
   "id": "95e266b3-e6d3-4353-aaf3-349b14293a05",
   "metadata": {
    "tags": []
   },
   "source": [
    "# Metrics"
   ]
  },
  {
   "cell_type": "markdown",
   "id": "a3505a04-9b6a-4fec-8fc0-4c616b64ded9",
   "metadata": {},
   "source": [
    "## Tokens\n",
    "- [x] Token distribution across hex types\n",
    "- [ ] Token distribution across board locations \n",
    "\n",
    "## Types\n",
    "- [ ] Terrain distribution across the board\n",
    "    - [x] Global distribution: symmetry\n",
    "    - [ ] Local distribution: terrain clusters\n",
    "\n",
    "\n",
    "## Ports\n",
    "- Port proximity to respective resource\n",
    "- Port \"diversity\" (mixing of 2:1 and 3:1)"
   ]
  },
  {
   "cell_type": "code",
   "execution_count": null,
   "id": "aa99bdd5-dfe1-48c3-953e-700fdc5d9ab1",
   "metadata": {},
   "outputs": [],
   "source": [
    "def normalise(x):\n",
    "    x = np.asarray(x)\n",
    "    return (x - x.min()) / (np.ptp(x))"
   ]
  },
  {
   "cell_type": "markdown",
   "id": "fe4518c6-1f1d-4e81-9aa1-f3a5440ae86e",
   "metadata": {
    "tags": []
   },
   "source": [
    "# Tokens"
   ]
  },
  {
   "cell_type": "markdown",
   "id": "bff24711-7841-4f1d-ac4a-b494d6037e37",
   "metadata": {
    "tags": []
   },
   "source": [
    "## Token distribution across hex types\n",
    "- How are the token numbers spread between the different hex types?\n",
    "- We could consider the distributions to be more 'fair' if each hex type has a roughly equal chance of producing resources each turn."
   ]
  },
  {
   "cell_type": "code",
   "execution_count": null,
   "id": "f0a31c95-b834-4755-bdab-377c82b81cc4",
   "metadata": {},
   "outputs": [],
   "source": [
    "def calc_token_hex_score(board):\n",
    "    dist = {'wool': 0, 'grain': 0, 'lumber': 0, 'ore': 0, 'brick': 0}    \n",
    "\n",
    "    for hex_ in board.hexes:\n",
    "        hex_type = board.hex_types[hex_]\n",
    "        if hex_type != 'desert':\n",
    "            dist[hex_type] += roll_freq(board.hex_tokens[hex_])\n",
    "\n",
    "    for key in dist.keys():\n",
    "        if key in ['wood', 'grain', 'lumber']:\n",
    "            dist[key] = dist[key] / 4\n",
    "        else:\n",
    "            dist[key] = dist[key] / 3\n",
    "\n",
    "    v = var(dist.values()) * 5 # TODO: Make this more elegant\n",
    "\n",
    "    return v\n",
    "    "
   ]
  },
  {
   "cell_type": "markdown",
   "id": "09ea8887-d209-4546-9e66-44b9a5253d54",
   "metadata": {
    "tags": []
   },
   "source": [
    "## Token distribution across location\n",
    "- How are the token numbers spread across the board by location?\n",
    "- Break down into two categories:\n",
    "    - Probability: We could consider the distribution to be 'fair' if each vertex roughly equal chance (accounting for the number of adjacent tiles) of producing resources per turn.\n",
    "    - Diversity: We could consider the distribution to be 'balanced' if adjacent hexes don't share the same token number. "
   ]
  },
  {
   "cell_type": "markdown",
   "id": "6408111f-845f-46ba-a5a6-0ace1c25fe68",
   "metadata": {
    "tags": []
   },
   "source": [
    "### Probability"
   ]
  },
  {
   "cell_type": "code",
   "execution_count": null,
   "id": "2378339c-17be-4c02-8a38-e0b782dd544e",
   "metadata": {
    "tags": []
   },
   "outputs": [],
   "source": [
    "d = init_canvas(700, 700)\n",
    "b = init_board(radius = 3)\n",
    "draw_board_outline(d, b)\n",
    "draw_coords(d, b)\n",
    "d"
   ]
  },
  {
   "cell_type": "code",
   "execution_count": null,
   "id": "b1a7e287-5c67-4a8d-b59d-48b923482075",
   "metadata": {},
   "outputs": [],
   "source": [
    "def calc_vertex_prob_score(board):\n",
    "    # TODO: Make this into a separate function\n",
    "    vertex_set = set()\n",
    "    for hex_ in board.hexes:\n",
    "        vertices = get_vertices(hex_)\n",
    "        vertex_set.update(vertices)\n",
    "    \n",
    "    prob_list = []\n",
    "    for v in vertex_set:\n",
    "        hexes = vertex_to_hex_trip(v)\n",
    "        prob = 0\n",
    "        num_tiles_on_board = 0\n",
    "        # print(f\"hex triple = {hexes}\")\n",
    "        for hex_ in hexes:\n",
    "            if hex_ in board.hexes:\n",
    "                num_tiles_on_board += 1\n",
    "                hex_token = board.hex_tokens[hex_]\n",
    "                if hex_token is not None:\n",
    "                    prob += roll_freq(hex_token)\n",
    "                    # print(f\"hex = {hex_}\")\n",
    "                    # print(f\"token = {hex_token}, dots = {roll_freq(hex_token)}\")\n",
    "\n",
    "        weighted_prob = prob * num_tiles_on_board/3\n",
    "        # print(f\"Total prob = {prob}, w_prob = {weighted_prob}\")\n",
    "        prob_list.append(weighted_prob)\n",
    "    \n",
    "    prob_var = var(prob_list)\n",
    "    return(prob_var)\n",
    "\n",
    "    # prob_delta = max(prob_list) - min(prob_list)\n",
    "    # return prob_delta"
   ]
  },
  {
   "cell_type": "code",
   "execution_count": null,
   "id": "29d74af5-4fa9-4c7f-97d1-a10ba8901962",
   "metadata": {},
   "outputs": [],
   "source": [
    "1e8/20369419560 * 100"
   ]
  },
  {
   "cell_type": "code",
   "execution_count": null,
   "id": "f87d48fd-ca88-4a51-b779-4efba1b128fe",
   "metadata": {},
   "outputs": [],
   "source": [
    "n_iter = int(1e5)\n",
    "boards = []\n",
    "\n",
    "for i in range(n_iter):\n",
    "    boards.append(create_random_board(2, hex_types, tokens, \n",
    "                            harbor_locations, harbor_types))"
   ]
  },
  {
   "cell_type": "code",
   "execution_count": null,
   "id": "55a940ae-906e-49bd-8556-5cd08fed41e8",
   "metadata": {},
   "outputs": [],
   "source": [
    "# import sys\n",
    "# sys.getsizeof(boards) / 1e6"
   ]
  },
  {
   "cell_type": "code",
   "execution_count": null,
   "id": "5f39e72a-2cc7-4313-a57a-09cbf4744d14",
   "metadata": {},
   "outputs": [],
   "source": [
    "v_prob_scores = []\n",
    "\n",
    "for i in range(n_iter):\n",
    "    board = boards[i]\n",
    "    v_prob_scores.append(calc_vertex_prob_score(board))"
   ]
  },
  {
   "cell_type": "code",
   "execution_count": null,
   "id": "08a55682-40e7-4546-8802-86c2cdeb649e",
   "metadata": {},
   "outputs": [],
   "source": [
    "v_prob_scores_n = normalise(v_prob_scores)\n",
    "\n",
    "np.sort(v_prob_scores_n)[:10]\n",
    "np.argsort(v_prob_scores_n)[:10]\n",
    "top_board = np.argsort(v_prob_scores_n)[0]"
   ]
  },
  {
   "cell_type": "code",
   "execution_count": null,
   "id": "11040789-3759-46c0-bd41-6a4cd990a6e1",
   "metadata": {},
   "outputs": [],
   "source": [
    "d = draw_complete_board(boards[np.argsort(v_prob_scores_n)[2]], width, height)\n",
    "d"
   ]
  },
  {
   "cell_type": "markdown",
   "id": "10fbb98b-2993-413d-b540-bd51a77a6e9a",
   "metadata": {},
   "source": [
    "Problem: This results in 'weird' distributions of tokens. Maybe better off trying to make each hex neighbour hexes with different number of dots?"
   ]
  },
  {
   "cell_type": "code",
   "execution_count": null,
   "id": "a4beff63-af6d-4a43-8ba1-140e19c11d6c",
   "metadata": {},
   "outputs": [],
   "source": [
    "from collections import Counter\n",
    "\n",
    "a = [Hex(0,0), Hex(1,0), Hex(0,1)]\n",
    "b = [Hex(1,0), Hex(0,0), Hex(0,1), Hex(2,2)]\n",
    "\n",
    "Counter(a) == Counter(b)"
   ]
  },
  {
   "cell_type": "markdown",
   "id": "28d0c14c-efee-4052-b0a9-894eb374ded4",
   "metadata": {
    "tags": []
   },
   "source": [
    "### Diversity"
   ]
  },
  {
   "cell_type": "markdown",
   "id": "71f97d4f-3865-48d5-8284-fc179f1f71e0",
   "metadata": {
    "tags": []
   },
   "source": [
    "# Terrains"
   ]
  },
  {
   "cell_type": "markdown",
   "id": "35376a3a-c1ba-4fa6-a25b-a19a70f9e29a",
   "metadata": {
    "tags": []
   },
   "source": [
    "## Global distribution\n",
    "- How are the terrains spread over the board overall?\n",
    "- Multiple candidate approaches, including:\n",
    "    - Maximising the sum of average distances between tiles with the same terrain.\n",
    "    - Minimising the difference in the number of terrain types on opposite sides of axes.\n"
   ]
  },
  {
   "cell_type": "code",
   "execution_count": null,
   "id": "16e6aa44-9e85-4fe3-a182-c31906ae6c12",
   "metadata": {},
   "outputs": [],
   "source": [
    "def get_terrain_locations(board: board, terrain: str):\n",
    "    locations = []\n",
    "    for hex_ in board.hexes:\n",
    "        hex_type = board.hex_types[hex_]\n",
    "        if hex_type == terrain:\n",
    "            locations.append(hex_)\n",
    "    return locations\n",
    "            \n",
    "\n",
    "def hex_distance(h1, h2):\n",
    "    distance = max(abs(h1.q - h2.q), abs(h1.r - h2.r), abs(h1.s - h2.s))\n",
    "    return distance"
   ]
  },
  {
   "cell_type": "markdown",
   "id": "8bb86a3a-690a-420a-92a9-7185ce903b87",
   "metadata": {},
   "source": [
    "The minimising variance of the average distance doesn't produce nice results. "
   ]
  },
  {
   "cell_type": "code",
   "execution_count": null,
   "id": "a7c02608-fa39-4110-8289-6de5cb90f95a",
   "metadata": {
    "tags": []
   },
   "outputs": [],
   "source": [
    "locations = get_terrain_locations(board, 'lumber')\n",
    "print(locations)\n",
    "distances = [] \n",
    "\n",
    "# TODO: Make this more efficient, double counts each edge\n",
    "for h1 in locations:\n",
    "    for h2 in locations:\n",
    "        if h1 != h2:\n",
    "            distance = hex_distance(h1, h2)\n",
    "            distances.append(distance)\n",
    "            \n",
    "print(mean(distances))\n"
   ]
  },
  {
   "cell_type": "code",
   "execution_count": null,
   "id": "0d5180d8-ebfd-4a16-ad27-664356e3edc5",
   "metadata": {
    "tags": []
   },
   "outputs": [],
   "source": [
    "min_var = 100\n",
    "min_dist = None \n",
    "min_board = None\n",
    "\n",
    "\n",
    "hex_types_unique = list(set(hex_types))\n",
    "hex_types_unique.remove('desert')\n",
    "\n",
    "for i in range(10000):\n",
    "    board = create_random_board(2, hex_types, tokens, \n",
    "                                harbor_locations, harbor_types)\n",
    "    avg_distances = []\n",
    "\n",
    "    for hex_type in hex_types_unique:\n",
    "        locations = get_terrain_locations(board, hex_type)\n",
    "        distances = [] \n",
    "\n",
    "        # TODO: Make this more efficient, double counts each edge\n",
    "        for h1 in locations:\n",
    "            for h2 in locations:\n",
    "                if h1 != h2:\n",
    "                    distance = hex_distance(h1, h2)\n",
    "                    distances.append(distance)\n",
    "        avg_distances.append(mean(distances))\n",
    "            \n",
    "\n",
    "    v = var(avg_distances)\n",
    "    if v < min_var:\n",
    "        min_var = v\n",
    "        min_dist = avg_distances\n",
    "        min_board = board\n"
   ]
  },
  {
   "cell_type": "code",
   "execution_count": null,
   "id": "3ad0941b-76cf-462e-8d80-3fa8e016b009",
   "metadata": {
    "tags": []
   },
   "outputs": [],
   "source": [
    "print(min_var)\n",
    "print(min_dist)\n",
    "d = draw_complete_board(min_board, width, height)\n",
    "d.setPixelScale(1.2)\n",
    "d"
   ]
  },
  {
   "cell_type": "markdown",
   "id": "0bb4ae95-7557-4752-9a5c-e472ec1eb682",
   "metadata": {},
   "source": [
    "### Maximising sum of average distances"
   ]
  },
  {
   "cell_type": "code",
   "execution_count": null,
   "id": "fb6a596c-6ec3-4ce5-ba03-f2a1f93cac8a",
   "metadata": {
    "tags": []
   },
   "outputs": [],
   "source": [
    "max_sum = 0\n",
    "max_dist = None \n",
    "min_board = None\n",
    "\n",
    "\n",
    "hex_types_unique = list(set(hex_types))\n",
    "hex_types_unique.remove('desert')\n",
    "\n",
    "for i in range(100000):\n",
    "    board = create_random_board(2, hex_types, tokens, \n",
    "                                harbor_locations, harbor_types)\n",
    "    avg_distances = []\n",
    "\n",
    "    for hex_type in hex_types_unique:\n",
    "        locations = get_terrain_locations(board, hex_type)\n",
    "        distances = [] \n",
    "\n",
    "        # TODO: Make this more efficient, double counts each edge\n",
    "        for h1 in locations:\n",
    "            for h2 in locations:\n",
    "                if h1 != h2:\n",
    "                    distance = hex_distance(h1, h2)\n",
    "                    distances.append(distance)\n",
    "        avg_distances.append(mean(distances))\n",
    "            \n",
    "\n",
    "    s = sum(avg_distances)\n",
    "    if s > max_sum:\n",
    "        max_sum = s\n",
    "        max_dist = avg_distances\n",
    "        min_board = board\n"
   ]
  },
  {
   "cell_type": "code",
   "execution_count": null,
   "id": "64249373-55c2-45e8-b309-b2bf7af36384",
   "metadata": {
    "tags": []
   },
   "outputs": [],
   "source": [
    "print(max_sum)\n",
    "print(min_dist)\n",
    "d = draw_complete_board(min_board, width, height)\n",
    "d.setPixelScale(1.2)\n",
    "d"
   ]
  },
  {
   "cell_type": "markdown",
   "id": "5c40bd73-27a8-4c3d-b298-f9d4cb027056",
   "metadata": {
    "tags": []
   },
   "source": [
    "### Minimising the difference in the number of terrain types on opposite sides of axes"
   ]
  },
  {
   "cell_type": "code",
   "execution_count": null,
   "id": "ce41e378-d81d-4777-b4be-173b318edfe5",
   "metadata": {
    "tags": []
   },
   "outputs": [],
   "source": [
    "min_sum = 100\n",
    "min_board = None\n",
    "\n",
    "for i in range(100000):\n",
    "    board = create_random_board(2, hex_types, tokens, \n",
    "                                harbor_locations, harbor_types)\n",
    "\n",
    "    squared_diffs = 0\n",
    "    for axis in ['q', 'r', 's']:\n",
    "        count = {'wool': 0, 'grain': 0, 'lumber': 0, 'ore': 0, 'brick': 0}\n",
    "        for hex_ in board.hexes:\n",
    "            hex_type = board.hex_types[hex_]\n",
    "            if hex_type != 'desert':\n",
    "                if getattr(hex_, axis) < 0:\n",
    "                    count[hex_type] -= 1\n",
    "                elif getattr(hex_, axis) > 0:\n",
    "                    count[hex_type] += 1\n",
    "        squared_diffs += sum([i**2 for i in count.values()])\n",
    "    \n",
    "    if squared_diffs < min_sum:\n",
    "        min_sum = squared_diffs\n",
    "        min_board = board\n",
    "        "
   ]
  },
  {
   "cell_type": "code",
   "execution_count": null,
   "id": "71196eb6-fcb1-492c-a2e5-96f60c9435b9",
   "metadata": {
    "tags": []
   },
   "outputs": [],
   "source": [
    "print(min_sum)\n",
    "d = draw_complete_board(min_board, width, height)\n",
    "d.setPixelScale(1.2)\n",
    "d"
   ]
  },
  {
   "cell_type": "markdown",
   "id": "4dfbbda5-7250-4cc3-994f-3c16202429a0",
   "metadata": {
    "tags": []
   },
   "source": [
    "## Local distribution\n",
    "- The methods used above don't directly discourage an even distribution on a 'local' level; often optimising these measures along results in tiles of the same type clustering together.\n",
    "- Ideally, no two resources of the same type should be adjacent.\n",
    "- We create another metric to measure the number of neighbours a tile has of the same type, and attempt to minimise it.\n"
   ]
  },
  {
   "cell_type": "markdown",
   "id": "0486942b-b040-4fbd-82c9-3075e8e9edc6",
   "metadata": {},
   "source": [
    "Need an approach to directly penalise having neighbours of the same type."
   ]
  },
  {
   "cell_type": "code",
   "execution_count": null,
   "id": "866f1b80-ca59-4c82-89dd-41831e17ed22",
   "metadata": {},
   "outputs": [],
   "source": [
    "def get_neighbours(hex_, board):\n",
    "    directions = [Hex(1, 0), Hex(1, -1), Hex(0, -1), \n",
    "                  Hex(-1, 0), Hex(-1, 1), Hex(0, 1)]\n",
    "    neighbours = []\n",
    "    for vec in directions:\n",
    "        neighbour = hex_ + vec\n",
    "        if hex_distance(Hex(0,0), neighbour) <= board.radius:\n",
    "            neighbours.append(neighbour)\n",
    "            \n",
    "    return neighbours\n",
    "\n",
    "\n",
    "score = 0\n",
    "for hex_ in board.hexes:\n",
    "    neighbours = get_neighbours(hex_, board)\n",
    "    hex_type = board.hex_types[hex_]\n",
    "    for neighbour in neighbours:\n",
    "        if board.hex_types[neighbour] == hex_type:\n",
    "            score += 1"
   ]
  },
  {
   "cell_type": "code",
   "execution_count": null,
   "id": "b6e30d00-bbeb-4647-b339-72c21c631273",
   "metadata": {},
   "outputs": [],
   "source": [
    "def calc_clustering_score(board):\n",
    "    score = 0\n",
    "    for hex_ in board.hexes:\n",
    "        neighbours = get_neighbours(hex_, board)\n",
    "        hex_type = board.hex_types[hex_]\n",
    "        for neighbour in neighbours:\n",
    "            if board.hex_types[neighbour] == hex_type:\n",
    "                score += 1\n",
    "    return(score)\n",
    "\n",
    "def calc_symmetry_score(board):\n",
    "    squared_diffs = 0\n",
    "    for axis in ['q', 'r', 's']:\n",
    "        count = {'wool': 0, 'grain': 0, 'lumber': 0, 'ore': 0, 'brick': 0}\n",
    "        for hex_ in board.hexes:\n",
    "            hex_type = board.hex_types[hex_]\n",
    "            if hex_type != 'desert':\n",
    "                if getattr(hex_, axis) < 0:\n",
    "                    count[hex_type] -= 1\n",
    "                elif getattr(hex_, axis) > 0:\n",
    "                    count[hex_type] += 1\n",
    "        squared_diffs += sum([i**2 for i in count.values()])\n",
    "\n",
    "    return squared_diffs\n"
   ]
  },
  {
   "cell_type": "code",
   "execution_count": null,
   "id": "90b37ef7-c9b9-408b-87ac-6d425b54fa3d",
   "metadata": {},
   "outputs": [],
   "source": [
    "results = []\n",
    "boards = []\n",
    "\n",
    "n_iter = int(1e5)\n",
    "\n",
    "for i in range(n_iter):\n",
    "    board = create_random_board(2, hex_types, tokens, \n",
    "                            harbor_locations, harbor_types)\n",
    "    cluster_score = calc_clustering_score(board)\n",
    "    results.append(cluster_score)\n",
    "    boards.append(board)\n",
    "    "
   ]
  },
  {
   "cell_type": "code",
   "execution_count": null,
   "id": "e8668261-20a8-440a-a7a3-e6f7adf69a9e",
   "metadata": {},
   "outputs": [],
   "source": [
    "results_sorted = np.sort(results)\n",
    "indices_sorted = np.argsort(results)"
   ]
  },
  {
   "cell_type": "code",
   "execution_count": null,
   "id": "ec291e4c-4d36-41f1-b20e-c8dbff579987",
   "metadata": {},
   "outputs": [],
   "source": [
    "for i in range(len(results_sorted)):\n",
    "    if results_sorted[i] == 0:\n",
    "        pass\n",
    "    else:\n",
    "        print(i)\n",
    "        break\n",
    "    "
   ]
  },
  {
   "cell_type": "code",
   "execution_count": null,
   "id": "453a38bf-1d23-4505-b524-a088b6828eb3",
   "metadata": {},
   "outputs": [],
   "source": [
    "d = draw_complete_board(boards[28377], width, height)\n",
    "d.setPixelScale(1.2)\n",
    "d"
   ]
  },
  {
   "cell_type": "markdown",
   "id": "02a7e2c2-2dd9-4fa9-bd51-53e19fbd61fc",
   "metadata": {},
   "source": [
    "## Packaging it together"
   ]
  },
  {
   "cell_type": "code",
   "execution_count": null,
   "id": "d5f4fb2d-9b54-43c7-b7f8-a21597697dc9",
   "metadata": {},
   "outputs": [],
   "source": [
    "cluster = []\n",
    "symm = []\n",
    "token_hex = []\n",
    "v_freq = []\n",
    "boards = []\n",
    "\n",
    "n_iter = int(1e5)\n",
    "\n",
    "for i in range(n_iter):\n",
    "    board = create_random_board(2, hex_types, tokens, \n",
    "                            harbor_locations, harbor_types)\n",
    "    cluster.append(calc_clustering_score(board))\n",
    "    symm.append(calc_symmetry_score(board))\n",
    "    token_hex.append(calc_token_hex_score(board))\n",
    "    v_freq.append(calc_vertex_prob_score(board))\n",
    "    boards.append(board)"
   ]
  },
  {
   "cell_type": "code",
   "execution_count": null,
   "id": "d98cfaed-e5ab-4936-ad75-f1ae10fea130",
   "metadata": {},
   "outputs": [],
   "source": [
    "np.sort(normalise(token_hex))"
   ]
  },
  {
   "cell_type": "code",
   "execution_count": null,
   "id": "43ff874c-6cf9-4219-98d9-51ff79449f28",
   "metadata": {},
   "outputs": [],
   "source": [
    "np.percentile(normalise(token_hex), [0.1, 25, 50, 75, 99.9])"
   ]
  },
  {
   "cell_type": "code",
   "execution_count": null,
   "id": "e7eeb054-3134-48bc-9aa9-a165b5a66c10",
   "metadata": {},
   "outputs": [],
   "source": [
    "\n",
    "\n",
    "token_hex_n = normalise(token_hex)\n",
    "cluster_n = normalise(cluster)\n",
    "symm_n = normalise(symm)\n",
    "v_freq_n = normalise(v_freq)\n",
    "\n",
    "\n",
    "w = 1\n",
    "v = 1\n",
    "u = 1\n",
    "results_sum = cluster_n * w + symm_n +  v * token_hex_n + u * v_freq_n"
   ]
  },
  {
   "cell_type": "code",
   "execution_count": null,
   "id": "b222cfc1-139f-4c3c-b9b7-892651cf8f45",
   "metadata": {},
   "outputs": [],
   "source": [
    "n = 20\n",
    "print(f\"Top {n} result scores: \\n {np.sort(results_sum)[:n]}\")\n",
    "print(f\"Top {n} board indexes: \\n {np.argsort(results_sum)[:n]}\")\n",
    "\n",
    "top_board_index = np.argsort(results_sum)[0]"
   ]
  },
  {
   "cell_type": "code",
   "execution_count": null,
   "id": "21aee5a6-be33-4760-acb0-8f2e0e24936e",
   "metadata": {},
   "outputs": [],
   "source": [
    "d = draw_complete_board(boards[top_board_index], width, height)\n",
    "d.setPixelScale(1.2)\n",
    "d"
   ]
  },
  {
   "cell_type": "code",
   "execution_count": null,
   "id": "423220bf-8148-4cf2-b42b-7ddaeed22636",
   "metadata": {},
   "outputs": [],
   "source": [
    "desert_origin = 0\n",
    "for board in boards:\n",
    "    if board.hex_types[Hex(0,0)] == \"desert\":\n",
    "        desert_origin += 1\n",
    "        \n",
    "print(desert_origin/n_iter)"
   ]
  },
  {
   "cell_type": "code",
   "execution_count": null,
   "id": "08552ba2-d505-42fb-8989-57eaad414b37",
   "metadata": {},
   "outputs": [],
   "source": [
    "desert_origin = 0\n",
    "for i in range(100):\n",
    "    board = boards[np.argsort(results_sum)[i]]\n",
    "    if board.hex_types[Hex(0,0)] == \"desert\":\n",
    "        desert_origin += 1\n",
    "        \n",
    "print(desert_origin/100)"
   ]
  }
 ],
 "metadata": {
  "kernelspec": {
   "display_name": "Python 3 (ipykernel)",
   "language": "python",
   "name": "python3"
  },
  "language_info": {
   "codemirror_mode": {
    "name": "ipython",
    "version": 3
   },
   "file_extension": ".py",
   "mimetype": "text/x-python",
   "name": "python",
   "nbconvert_exporter": "python",
   "pygments_lexer": "ipython3",
   "version": "3.8.10"
  }
 },
 "nbformat": 4,
 "nbformat_minor": 5
}
